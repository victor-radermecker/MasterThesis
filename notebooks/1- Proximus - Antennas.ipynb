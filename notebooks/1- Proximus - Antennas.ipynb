{
 "cells": [
  {
   "cell_type": "code",
   "execution_count": 1,
   "id": "ec537acc-a291-4b04-a3da-54e8f4850d5c",
   "metadata": {},
   "outputs": [],
   "source": [
    "import json\n",
    "import os\n",
    "import sys\n",
    "\n",
    "import branca\n",
    "import branca.colormap as cm\n",
    "import geopandas as gpd\n",
    "import numpy as np\n",
    "import pandas as pd\n",
    "\n",
    "sys.path.insert(0, \"../src\")\n",
    "from BrusselsMap import BrusselsMap\n",
    "from GeoJsonHandler import GeoJsonHandler\n",
    "from OSMGeoJsonHandler import OSMGeoJsonHandler\n",
    "\n",
    "pd.set_option(\"display.max_rows\", 500)\n",
    "pd.set_option(\"display.max_columns\", 500)\n",
    "\n",
    "import warnings\n",
    "warnings.filterwarnings('ignore')"
   ]
  },
  {
   "cell_type": "code",
   "execution_count": 2,
   "id": "9a00cbef-c5d8-4966-9d77-329b9ef4668d",
   "metadata": {
    "tags": []
   },
   "outputs": [],
   "source": [
    "import geopandas as gpd\n",
    "import folium\n",
    "import matplotlib.pyplot as plt"
   ]
  },
  {
   "cell_type": "code",
   "execution_count": 3,
   "id": "a06be971-c7dd-4dd3-b91b-5596dab32491",
   "metadata": {},
   "outputs": [],
   "source": [
    "tacs = gpd.read_file(\"C:/Users/vic_t/OneDrive/MFE/Code/data/proximus/TACS/cell_locations_20200120_20200220.shp\")"
   ]
  },
  {
   "cell_type": "code",
   "execution_count": 4,
   "id": "643d9021-681c-41a5-b1fa-8985e2d6470c",
   "metadata": {},
   "outputs": [],
   "source": [
    "# Use WGS 84 (epsg:4326) as the geographic coordinate system\n",
    "tacs = tacs.to_crs(epsg=4326)"
   ]
  },
  {
   "cell_type": "code",
   "execution_count": 5,
   "id": "8a44df60-029f-4960-a44c-6e259eab1d16",
   "metadata": {},
   "outputs": [
    {
     "data": {
      "text/plain": [
       "0    POLYGON ((4.33600 50.80336, 4.33861 50.80360, ...\n",
       "dtype: geometry"
      ]
     },
     "execution_count": 5,
     "metadata": {},
     "output_type": "execute_result"
    }
   ],
   "source": [
    "gpd.GeoSeries(tacs.iloc[0]['geometry'])"
   ]
  },
  {
   "cell_type": "code",
   "execution_count": 6,
   "id": "32bd6cc2-6adb-4168-a0d2-11eae3d0623d",
   "metadata": {},
   "outputs": [
    {
     "ename": "NameError",
     "evalue": "name 'df' is not defined",
     "output_type": "error",
     "traceback": [
      "\u001b[1;31m---------------------------------------------------------------------------\u001b[0m",
      "\u001b[1;31mNameError\u001b[0m                                 Traceback (most recent call last)",
      "\u001b[1;32m~\\AppData\\Local\\Temp/ipykernel_9288/1704496214.py\u001b[0m in \u001b[0;36m<module>\u001b[1;34m\u001b[0m\n\u001b[0;32m     33\u001b[0m \u001b[1;33m\u001b[0m\u001b[0m\n\u001b[0;32m     34\u001b[0m \u001b[1;33m\u001b[0m\u001b[0m\n\u001b[1;32m---> 35\u001b[1;33m \u001b[0msim_geo\u001b[0m \u001b[1;33m=\u001b[0m \u001b[0mgpd\u001b[0m\u001b[1;33m.\u001b[0m\u001b[0mGeoSeries\u001b[0m\u001b[1;33m(\u001b[0m\u001b[0mdf\u001b[0m\u001b[1;33m.\u001b[0m\u001b[0miloc\u001b[0m\u001b[1;33m[\u001b[0m\u001b[1;36m115\u001b[0m\u001b[1;33m]\u001b[0m\u001b[1;33m[\u001b[0m\u001b[1;34m'geometry'\u001b[0m\u001b[1;33m]\u001b[0m\u001b[1;33m)\u001b[0m\u001b[1;31m#.simplify(tolerance=0.001)\u001b[0m\u001b[1;33m\u001b[0m\u001b[1;33m\u001b[0m\u001b[0m\n\u001b[0m\u001b[0;32m     36\u001b[0m \u001b[0mgeo_j\u001b[0m \u001b[1;33m=\u001b[0m \u001b[0msim_geo\u001b[0m\u001b[1;33m.\u001b[0m\u001b[0mto_json\u001b[0m\u001b[1;33m(\u001b[0m\u001b[1;33m)\u001b[0m\u001b[1;33m\u001b[0m\u001b[1;33m\u001b[0m\u001b[0m\n\u001b[0;32m     37\u001b[0m geo_j = folium.GeoJson(data=geo_j,\n",
      "\u001b[1;31mNameError\u001b[0m: name 'df' is not defined"
     ]
    }
   ],
   "source": [
    "m = folium.Map(location=[50.85, 4.35], zoom_start=12, tiles='CartoDB positron')\n",
    "folium.TileLayer(\"stamenwatercolor\").add_to(m)\n",
    "\n",
    "# style_function = lambda x: {\n",
    "#     \"weight\": 0.5,\n",
    "#     \"color\": \"black\",\n",
    "#     \"fillColor\": colormap(x['layer'][colnames[1]]),\n",
    "#     \"fillOpacity\": 0.65,\n",
    "# }\n",
    "\n",
    "fill_style_function = lambda x: {\n",
    "    \"weight\": 0.25,\n",
    "    \"color\": \"black\",\n",
    "    \"fillColor\": \"grey\",\n",
    "    \"fillOpacity\": 0.35,\n",
    "}\n",
    "\n",
    "for _, r in tacs.iterrows():\n",
    "    # Without simplifying the representation of each borough,\n",
    "    # the map might not be displayed\n",
    "    sim_geo = gpd.GeoSeries(r['geometry'])#.simplify(tolerance=0.001)\n",
    "    geo_j = sim_geo.to_json()\n",
    "    \n",
    "#     #Set json\n",
    "#     a = gpd.GeoSeries(tacs.iloc[i][['geometry']]).to_json()\n",
    "#     b = json.loads(a)\n",
    "#     b[\"features\"][i][\"properties\"] = {'layer':tacs.iloc[i]['layer']}\n",
    "    \n",
    "    geo_j = folium.GeoJson(data=geo_j,\n",
    "                           style_function=fill_style_function)\n",
    "    folium.Popup(r['id']).add_to(geo_j)\n",
    "    geo_j.add_to(m)\n",
    "\n",
    "\n",
    "sim_geo = gpd.GeoSeries(df.iloc[115]['geometry'])#.simplify(tolerance=0.001)\n",
    "geo_j = sim_geo.to_json()\n",
    "geo_j = folium.GeoJson(data=geo_j,\n",
    "                       style_function=fill_style_function)\n",
    "geo_j.add_to(m)\n",
    "\n",
    "folium.GeoJson(gpd.GeoSeries(df[\"geometry\"].iloc[115]).to_json()).add_to(m)\n",
    "    \n",
    "    \n",
    "m"
   ]
  },
  {
   "cell_type": "code",
   "execution_count": null,
   "id": "a996dc7b-9357-4862-aae9-9522b34ba6be",
   "metadata": {},
   "outputs": [],
   "source": [
    "o_path = r\"../data/outputs/maps/\"\n",
    "m.save(os.path.join(o_path, \"Proximus-TACS.html\")) # to HTML"
   ]
  },
  {
   "cell_type": "code",
   "execution_count": null,
   "id": "3a45b005-cc7e-49ac-a217-c3f330573816",
   "metadata": {},
   "outputs": [],
   "source": [
    "len(tacs)"
   ]
  }
 ],
 "metadata": {
  "kernelspec": {
   "display_name": "mfe_env",
   "language": "python",
   "name": "mfe_env"
  },
  "language_info": {
   "codemirror_mode": {
    "name": "ipython",
    "version": 3
   },
   "file_extension": ".py",
   "mimetype": "text/x-python",
   "name": "python",
   "nbconvert_exporter": "python",
   "pygments_lexer": "ipython3",
   "version": "3.9.7"
  }
 },
 "nbformat": 4,
 "nbformat_minor": 5
}

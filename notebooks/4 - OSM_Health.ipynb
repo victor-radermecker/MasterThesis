{
 "cells": [
  {
   "cell_type": "code",
   "execution_count": 10,
   "id": "a0417592-9497-42b2-907e-d895d055dd4f",
   "metadata": {},
   "outputs": [],
   "source": [
    "import geopandas as gpd\n",
    "import numpy as np\n",
    "import pandas as pd\n",
    "import json\n",
    "import os\n",
    " \n",
    "import sys \n",
    "sys.path.insert(0, \"../src\")\n",
    "from BrusselsMap import BrusselsMap\n",
    "from GeoJsonHandler import GeoJsonHandler\n",
    "from OSMGeoJsonHandler import OSMGeoJsonHandler\n",
    "\n",
    "pd.set_option(\"display.max_rows\", 500)\n",
    "pd.set_option(\"display.max_columns\", 500)"
   ]
  },
  {
   "cell_type": "code",
   "execution_count": 11,
   "id": "de7450bc-2cd8-430d-8e53-af4711ca6330",
   "metadata": {},
   "outputs": [
    {
     "name": "stdout",
     "output_type": "stream",
     "text": [
      "The autoreload extension is already loaded. To reload it, use:\n",
      "  %reload_ext autoreload\n"
     ]
    }
   ],
   "source": [
    "%load_ext autoreload\n",
    "%autoreload 2"
   ]
  },
  {
   "cell_type": "code",
   "execution_count": 12,
   "id": "2efab9da-f970-4d21-8f20-6868aba2ee6d",
   "metadata": {},
   "outputs": [],
   "source": [
    "r_path = r\"../data/osm/overpass-turbo/health.geojson\"\n",
    "path = os.path.join(os.getcwd(), r_path)\n",
    "\n",
    "health = OSMGeoJsonHandler(r_path, feature_type='health')"
   ]
  },
  {
   "cell_type": "code",
   "execution_count": 17,
   "id": "c8cbc0c1-f660-436d-82f3-21c4e4a479b7",
   "metadata": {},
   "outputs": [
    {
     "data": {
      "text/html": [
       "<div>\n",
       "<style scoped>\n",
       "    .dataframe tbody tr th:only-of-type {\n",
       "        vertical-align: middle;\n",
       "    }\n",
       "\n",
       "    .dataframe tbody tr th {\n",
       "        vertical-align: top;\n",
       "    }\n",
       "\n",
       "    .dataframe thead th {\n",
       "        text-align: right;\n",
       "    }\n",
       "</style>\n",
       "<table border=\"1\" class=\"dataframe\">\n",
       "  <thead>\n",
       "    <tr style=\"text-align: right;\">\n",
       "      <th></th>\n",
       "      <th>ID</th>\n",
       "      <th>TYPE</th>\n",
       "      <th>NAME</th>\n",
       "      <th>AMENITY</th>\n",
       "      <th>geometry</th>\n",
       "      <th>AREA</th>\n",
       "      <th>LAT</th>\n",
       "      <th>LON</th>\n",
       "    </tr>\n",
       "  </thead>\n",
       "  <tbody>\n",
       "    <tr>\n",
       "      <th>0</th>\n",
       "      <td>3018124</td>\n",
       "      <td>relation</td>\n",
       "      <td>Clinique Fond'Roy</td>\n",
       "      <td>clinic</td>\n",
       "      <td>POLYGON ((4.36585 50.78647, 4.36555 50.78638, ...</td>\n",
       "      <td>0.004515</td>\n",
       "      <td>50.786503</td>\n",
       "      <td>4.366473</td>\n",
       "    </tr>\n",
       "    <tr>\n",
       "      <th>1</th>\n",
       "      <td>3459598</td>\n",
       "      <td>relation</td>\n",
       "      <td>CHU Saint-Pierre (César de Paepe) - UMC Sint-P...</td>\n",
       "      <td>hospital</td>\n",
       "      <td>POLYGON ((4.34877 50.84313, 4.34953 50.84288, ...</td>\n",
       "      <td>0.004264</td>\n",
       "      <td>50.843283</td>\n",
       "      <td>4.349351</td>\n",
       "    </tr>\n",
       "    <tr>\n",
       "      <th>2</th>\n",
       "      <td>5653300</td>\n",
       "      <td>relation</td>\n",
       "      <td>Cliniques universitaires Saint-Luc</td>\n",
       "      <td>hospital</td>\n",
       "      <td>POLYGON ((4.45830 50.85235, 4.45766 50.85247, ...</td>\n",
       "      <td>0.092900</td>\n",
       "      <td>50.851778</td>\n",
       "      <td>4.454321</td>\n",
       "    </tr>\n",
       "    <tr>\n",
       "      <th>3</th>\n",
       "      <td>22401159</td>\n",
       "      <td>way</td>\n",
       "      <td>CHU Saint-Pierre - UMC Sint-Pieter</td>\n",
       "      <td>hospital</td>\n",
       "      <td>POLYGON ((4.34574 50.83440, 4.34574 50.83428, ...</td>\n",
       "      <td>0.031302</td>\n",
       "      <td>50.834792</td>\n",
       "      <td>4.347448</td>\n",
       "    </tr>\n",
       "    <tr>\n",
       "      <th>4</th>\n",
       "      <td>24924235</td>\n",
       "      <td>way</td>\n",
       "      <td>CHU Brugmann - UVC Brugmann</td>\n",
       "      <td>hospital</td>\n",
       "      <td>POLYGON ((4.33006 50.88511, 4.33221 50.88568, ...</td>\n",
       "      <td>0.193706</td>\n",
       "      <td>50.887800</td>\n",
       "      <td>4.331330</td>\n",
       "    </tr>\n",
       "  </tbody>\n",
       "</table>\n",
       "</div>"
      ],
      "text/plain": [
       "         ID      TYPE                                               NAME  \\\n",
       "0   3018124  relation                                  Clinique Fond'Roy   \n",
       "1   3459598  relation  CHU Saint-Pierre (César de Paepe) - UMC Sint-P...   \n",
       "2   5653300  relation                 Cliniques universitaires Saint-Luc   \n",
       "3  22401159       way                 CHU Saint-Pierre - UMC Sint-Pieter   \n",
       "4  24924235       way                        CHU Brugmann - UVC Brugmann   \n",
       "\n",
       "    AMENITY                                           geometry      AREA  \\\n",
       "0    clinic  POLYGON ((4.36585 50.78647, 4.36555 50.78638, ...  0.004515   \n",
       "1  hospital  POLYGON ((4.34877 50.84313, 4.34953 50.84288, ...  0.004264   \n",
       "2  hospital  POLYGON ((4.45830 50.85235, 4.45766 50.85247, ...  0.092900   \n",
       "3  hospital  POLYGON ((4.34574 50.83440, 4.34574 50.83428, ...  0.031302   \n",
       "4  hospital  POLYGON ((4.33006 50.88511, 4.33221 50.88568, ...  0.193706   \n",
       "\n",
       "         LAT       LON  \n",
       "0  50.786503  4.366473  \n",
       "1  50.843283  4.349351  \n",
       "2  50.851778  4.454321  \n",
       "3  50.834792  4.347448  \n",
       "4  50.887800  4.331330  "
      ]
     },
     "execution_count": 17,
     "metadata": {},
     "output_type": "execute_result"
    }
   ],
   "source": [
    "health.gdf.head()"
   ]
  },
  {
   "cell_type": "markdown",
   "id": "99754571-30b5-47cd-9286-f97b7d76586c",
   "metadata": {},
   "source": [
    "## Assign neighborhoods"
   ]
  },
  {
   "cell_type": "code",
   "execution_count": 18,
   "id": "841085fa-7a45-4605-a5bc-6976bcbe77d3",
   "metadata": {},
   "outputs": [],
   "source": [
    "#Load geodata\n",
    "r_path = r\"../data/final_data/sector.json\"\n",
    "path = os.path.join(os.getcwd(), r_path)\n",
    "sectors = GeoJsonHandler(path, \"NAME_FRE\")"
   ]
  },
  {
   "cell_type": "code",
   "execution_count": 19,
   "id": "6de4ed0b-3479-47a3-898e-b43a3ac6e609",
   "metadata": {},
   "outputs": [
    {
     "name": "stderr",
     "output_type": "stream",
     "text": [
      "  0%|                                                                                                                                   | 0/69 [00:00<?, ?it/s]C:\\Users\\vic_t\\Anaconda3\\envs\\mfe_env\\lib\\site-packages\\pandas\\core\\indexing.py:1732: SettingWithCopyWarning: \n",
      "A value is trying to be set on a copy of a slice from a DataFrame\n",
      "\n",
      "See the caveats in the documentation: https://pandas.pydata.org/pandas-docs/stable/user_guide/indexing.html#returning-a-view-versus-a-copy\n",
      "  self._setitem_single_block(indexer, value, name)\n",
      "100%|██████████████████████████████████████████████████████████████████████████████████████████████████████████████████████████| 69/69 [00:05<00:00, 13.52it/s]\n"
     ]
    }
   ],
   "source": [
    "health.assign_ngh(sectors)"
   ]
  },
  {
   "cell_type": "code",
   "execution_count": 29,
   "id": "e8e85128-c89f-4c2f-be99-4b69e74c35f4",
   "metadata": {},
   "outputs": [],
   "source": [
    "health.gdf = health.gdf[['ID', 'TYPE', 'NAME', 'AMENITY', 'geometry', 'AREA', 'LAT', 'LON', 'NAME_FRE']]"
   ]
  },
  {
   "cell_type": "code",
   "execution_count": 30,
   "id": "ca04d4f5-3ea0-42ea-9f3f-ca17150cf035",
   "metadata": {},
   "outputs": [
    {
     "data": {
      "text/html": [
       "<div>\n",
       "<style scoped>\n",
       "    .dataframe tbody tr th:only-of-type {\n",
       "        vertical-align: middle;\n",
       "    }\n",
       "\n",
       "    .dataframe tbody tr th {\n",
       "        vertical-align: top;\n",
       "    }\n",
       "\n",
       "    .dataframe thead th {\n",
       "        text-align: right;\n",
       "    }\n",
       "</style>\n",
       "<table border=\"1\" class=\"dataframe\">\n",
       "  <thead>\n",
       "    <tr style=\"text-align: right;\">\n",
       "      <th></th>\n",
       "      <th>ID</th>\n",
       "      <th>TYPE</th>\n",
       "      <th>NAME</th>\n",
       "      <th>AMENITY</th>\n",
       "      <th>geometry</th>\n",
       "      <th>AREA</th>\n",
       "      <th>LAT</th>\n",
       "      <th>LON</th>\n",
       "      <th>NAME_FRE</th>\n",
       "    </tr>\n",
       "  </thead>\n",
       "  <tbody>\n",
       "    <tr>\n",
       "      <th>0</th>\n",
       "      <td>3018124</td>\n",
       "      <td>relation</td>\n",
       "      <td>Clinique Fond'Roy</td>\n",
       "      <td>clinic</td>\n",
       "      <td>POLYGON ((4.36585 50.78647, 4.36555 50.78638, ...</td>\n",
       "      <td>0.004515</td>\n",
       "      <td>50.786503</td>\n",
       "      <td>4.366473</td>\n",
       "      <td>SAINT-JOB KAUWBERG</td>\n",
       "    </tr>\n",
       "    <tr>\n",
       "      <th>1</th>\n",
       "      <td>3459598</td>\n",
       "      <td>relation</td>\n",
       "      <td>CHU Saint-Pierre (César de Paepe) - UMC Sint-P...</td>\n",
       "      <td>hospital</td>\n",
       "      <td>POLYGON ((4.34877 50.84313, 4.34953 50.84288, ...</td>\n",
       "      <td>0.004264</td>\n",
       "      <td>50.843283</td>\n",
       "      <td>4.349351</td>\n",
       "      <td>STALINGRAD</td>\n",
       "    </tr>\n",
       "    <tr>\n",
       "      <th>2</th>\n",
       "      <td>5653300</td>\n",
       "      <td>relation</td>\n",
       "      <td>Cliniques universitaires Saint-Luc</td>\n",
       "      <td>hospital</td>\n",
       "      <td>POLYGON ((4.45830 50.85235, 4.45766 50.85247, ...</td>\n",
       "      <td>0.092900</td>\n",
       "      <td>50.851778</td>\n",
       "      <td>4.454321</td>\n",
       "      <td>KAPELLEVELD</td>\n",
       "    </tr>\n",
       "    <tr>\n",
       "      <th>3</th>\n",
       "      <td>22401159</td>\n",
       "      <td>way</td>\n",
       "      <td>CHU Saint-Pierre - UMC Sint-Pieter</td>\n",
       "      <td>hospital</td>\n",
       "      <td>POLYGON ((4.34574 50.83440, 4.34574 50.83428, ...</td>\n",
       "      <td>0.031302</td>\n",
       "      <td>50.834792</td>\n",
       "      <td>4.347448</td>\n",
       "      <td>MAROLLES</td>\n",
       "    </tr>\n",
       "    <tr>\n",
       "      <th>4</th>\n",
       "      <td>24924235</td>\n",
       "      <td>way</td>\n",
       "      <td>CHU Brugmann - UVC Brugmann</td>\n",
       "      <td>hospital</td>\n",
       "      <td>POLYGON ((4.33006 50.88511, 4.33221 50.88568, ...</td>\n",
       "      <td>0.193706</td>\n",
       "      <td>50.887800</td>\n",
       "      <td>4.331330</td>\n",
       "      <td>HEYSEL</td>\n",
       "    </tr>\n",
       "  </tbody>\n",
       "</table>\n",
       "</div>"
      ],
      "text/plain": [
       "         ID      TYPE                                               NAME  \\\n",
       "0   3018124  relation                                  Clinique Fond'Roy   \n",
       "1   3459598  relation  CHU Saint-Pierre (César de Paepe) - UMC Sint-P...   \n",
       "2   5653300  relation                 Cliniques universitaires Saint-Luc   \n",
       "3  22401159       way                 CHU Saint-Pierre - UMC Sint-Pieter   \n",
       "4  24924235       way                        CHU Brugmann - UVC Brugmann   \n",
       "\n",
       "    AMENITY                                           geometry      AREA  \\\n",
       "0    clinic  POLYGON ((4.36585 50.78647, 4.36555 50.78638, ...  0.004515   \n",
       "1  hospital  POLYGON ((4.34877 50.84313, 4.34953 50.84288, ...  0.004264   \n",
       "2  hospital  POLYGON ((4.45830 50.85235, 4.45766 50.85247, ...  0.092900   \n",
       "3  hospital  POLYGON ((4.34574 50.83440, 4.34574 50.83428, ...  0.031302   \n",
       "4  hospital  POLYGON ((4.33006 50.88511, 4.33221 50.88568, ...  0.193706   \n",
       "\n",
       "         LAT       LON            NAME_FRE  \n",
       "0  50.786503  4.366473  SAINT-JOB KAUWBERG  \n",
       "1  50.843283  4.349351          STALINGRAD  \n",
       "2  50.851778  4.454321         KAPELLEVELD  \n",
       "3  50.834792  4.347448            MAROLLES  \n",
       "4  50.887800  4.331330              HEYSEL  "
      ]
     },
     "execution_count": 30,
     "metadata": {},
     "output_type": "execute_result"
    }
   ],
   "source": [
    "health.gdf.head()"
   ]
  },
  {
   "cell_type": "code",
   "execution_count": 31,
   "id": "ca03df0f-5957-462c-b93e-8ecd01ab0a89",
   "metadata": {},
   "outputs": [],
   "source": [
    "r_path = r\"../data/final_data/osm/health.csv\"\n",
    "path = os.path.join(os.getcwd(), r_path)\n",
    "\n",
    "health.gdf.to_csv(path, sep=',', encoding='utf-8-sig', index=False, chunksize=10000)"
   ]
  },
  {
   "cell_type": "code",
   "execution_count": null,
   "id": "3739b083-e718-41d6-b261-7dcfbba55a1d",
   "metadata": {},
   "outputs": [],
   "source": []
  }
 ],
 "metadata": {
  "kernelspec": {
   "display_name": "Python 3 (ipykernel)",
   "language": "python",
   "name": "python3"
  },
  "language_info": {
   "codemirror_mode": {
    "name": "ipython",
    "version": 3
   },
   "file_extension": ".py",
   "mimetype": "text/x-python",
   "name": "python",
   "nbconvert_exporter": "python",
   "pygments_lexer": "ipython3",
   "version": "3.9.7"
  }
 },
 "nbformat": 4,
 "nbformat_minor": 5
}

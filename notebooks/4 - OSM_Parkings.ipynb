{
 "cells": [
  {
   "cell_type": "code",
   "execution_count": 20,
   "id": "a0417592-9497-42b2-907e-d895d055dd4f",
   "metadata": {},
   "outputs": [],
   "source": [
    "import geopandas as gpd\n",
    "import numpy as np\n",
    "import pandas as pd\n",
    "import json\n",
    "import os\n",
    " \n",
    "import sys \n",
    "sys.path.insert(0, \"../src\")\n",
    "from BrusselsMap import BrusselsMap\n",
    "from GeoJsonHandler import GeoJsonHandler\n",
    "from OSMGeoJsonHandler import OSMGeoJsonHandler\n",
    "\n",
    "pd.set_option(\"display.max_rows\", 500)\n",
    "pd.set_option(\"display.max_columns\", 500)"
   ]
  },
  {
   "cell_type": "code",
   "execution_count": 21,
   "id": "de7450bc-2cd8-430d-8e53-af4711ca6330",
   "metadata": {},
   "outputs": [
    {
     "name": "stdout",
     "output_type": "stream",
     "text": [
      "The autoreload extension is already loaded. To reload it, use:\n",
      "  %reload_ext autoreload\n"
     ]
    }
   ],
   "source": [
    "%load_ext autoreload\n",
    "%autoreload 2"
   ]
  },
  {
   "cell_type": "code",
   "execution_count": 26,
   "id": "2efab9da-f970-4d21-8f20-6868aba2ee6d",
   "metadata": {},
   "outputs": [],
   "source": [
    "r_path = r\"../data/osm/overpass-turbo/parkings.geojson\"\n",
    "path = os.path.join(os.getcwd(), r_path)\n",
    "\n",
    "par = OSMGeoJsonHandler(r_path, feature_type='parking')"
   ]
  },
  {
   "cell_type": "markdown",
   "id": "99754571-30b5-47cd-9286-f97b7d76586c",
   "metadata": {},
   "source": [
    "## Assign neighborhoods"
   ]
  },
  {
   "cell_type": "code",
   "execution_count": 28,
   "id": "841085fa-7a45-4605-a5bc-6976bcbe77d3",
   "metadata": {},
   "outputs": [],
   "source": [
    "#Load geodata\n",
    "r_path = r\"../data/final_data/sector.json\"\n",
    "path = os.path.join(os.getcwd(), r_path)\n",
    "sectors = GeoJsonHandler(path, \"NAME_FRE\")"
   ]
  },
  {
   "cell_type": "code",
   "execution_count": 29,
   "id": "6de4ed0b-3479-47a3-898e-b43a3ac6e609",
   "metadata": {},
   "outputs": [
    {
     "name": "stderr",
     "output_type": "stream",
     "text": [
      "  0%|                                                                                                                                                  | 0/1430 [00:00<?, ?it/s]C:\\Users\\vic_t\\Anaconda3\\envs\\mfe_env\\lib\\site-packages\\pandas\\core\\indexing.py:1732: SettingWithCopyWarning: \n",
      "A value is trying to be set on a copy of a slice from a DataFrame\n",
      "\n",
      "See the caveats in the documentation: https://pandas.pydata.org/pandas-docs/stable/user_guide/indexing.html#returning-a-view-versus-a-copy\n",
      "  self._setitem_single_block(indexer, value, name)\n",
      "100%|███████████████████████████████████████████████████████████████████████████████████████████████████████████████████████████████████████| 1430/1430 [01:35<00:00, 14.98it/s]\n"
     ]
    }
   ],
   "source": [
    "par.assign_ngh(sectors)"
   ]
  },
  {
   "cell_type": "code",
   "execution_count": 34,
   "id": "e8e85128-c89f-4c2f-be99-4b69e74c35f4",
   "metadata": {},
   "outputs": [],
   "source": [
    "par.gdf['AMENITY'] = 'parking'\n",
    "par.gdf = par.gdf[['ID', 'TYPE', 'NAME', 'AMENITY', 'geometry', 'AREA', 'LAT', 'LON', 'NAME_FRE']]"
   ]
  },
  {
   "cell_type": "code",
   "execution_count": 36,
   "id": "648b9ab2-6d3d-46ba-834c-f8d37880ee3b",
   "metadata": {},
   "outputs": [
    {
     "data": {
      "text/html": [
       "<div>\n",
       "<style scoped>\n",
       "    .dataframe tbody tr th:only-of-type {\n",
       "        vertical-align: middle;\n",
       "    }\n",
       "\n",
       "    .dataframe tbody tr th {\n",
       "        vertical-align: top;\n",
       "    }\n",
       "\n",
       "    .dataframe thead th {\n",
       "        text-align: right;\n",
       "    }\n",
       "</style>\n",
       "<table border=\"1\" class=\"dataframe\">\n",
       "  <thead>\n",
       "    <tr style=\"text-align: right;\">\n",
       "      <th></th>\n",
       "      <th>ID</th>\n",
       "      <th>TYPE</th>\n",
       "      <th>NAME</th>\n",
       "      <th>AMENITY</th>\n",
       "      <th>geometry</th>\n",
       "      <th>AREA</th>\n",
       "      <th>LAT</th>\n",
       "      <th>LON</th>\n",
       "      <th>NAME_FRE</th>\n",
       "    </tr>\n",
       "  </thead>\n",
       "  <tbody>\n",
       "    <tr>\n",
       "      <th>0</th>\n",
       "      <td>5964894</td>\n",
       "      <td>relation</td>\n",
       "      <td>parking</td>\n",
       "      <td>parking</td>\n",
       "      <td>POLYGON ((4.34558 50.82464, 4.34563 50.82465, ...</td>\n",
       "      <td>0.001200</td>\n",
       "      <td>50.824695</td>\n",
       "      <td>4.345611</td>\n",
       "      <td>HAUT SAINT-GILLES</td>\n",
       "    </tr>\n",
       "    <tr>\n",
       "      <th>1</th>\n",
       "      <td>6612477</td>\n",
       "      <td>relation</td>\n",
       "      <td>parking</td>\n",
       "      <td>parking</td>\n",
       "      <td>POLYGON ((4.36742 50.85156, 4.36738 50.85155, ...</td>\n",
       "      <td>0.000825</td>\n",
       "      <td>50.851311</td>\n",
       "      <td>4.367493</td>\n",
       "      <td>NOTRE-DAME AUX NEIGES</td>\n",
       "    </tr>\n",
       "    <tr>\n",
       "      <th>2</th>\n",
       "      <td>6991072</td>\n",
       "      <td>relation</td>\n",
       "      <td>parking</td>\n",
       "      <td>parking</td>\n",
       "      <td>MULTIPOLYGON (((4.34419 50.85038, 4.34421 50.8...</td>\n",
       "      <td>0.000679</td>\n",
       "      <td>50.850653</td>\n",
       "      <td>4.344075</td>\n",
       "      <td>DANSAERT</td>\n",
       "    </tr>\n",
       "    <tr>\n",
       "      <th>3</th>\n",
       "      <td>9482153</td>\n",
       "      <td>relation</td>\n",
       "      <td>parking</td>\n",
       "      <td>parking</td>\n",
       "      <td>MULTIPOLYGON (((4.29262 50.86151, 4.29277 50.8...</td>\n",
       "      <td>0.000097</td>\n",
       "      <td>50.861570</td>\n",
       "      <td>4.292651</td>\n",
       "      <td>BERCHEM SAINTE-AGATHE CENTRE</td>\n",
       "    </tr>\n",
       "    <tr>\n",
       "      <th>4</th>\n",
       "      <td>9744151</td>\n",
       "      <td>relation</td>\n",
       "      <td>parking</td>\n",
       "      <td>parking</td>\n",
       "      <td>POLYGON ((4.37504 50.87448, 4.37489 50.87447, ...</td>\n",
       "      <td>0.000099</td>\n",
       "      <td>50.874443</td>\n",
       "      <td>4.374966</td>\n",
       "      <td>COLLIGNON</td>\n",
       "    </tr>\n",
       "  </tbody>\n",
       "</table>\n",
       "</div>"
      ],
      "text/plain": [
       "        ID      TYPE     NAME  AMENITY  \\\n",
       "0  5964894  relation  parking  parking   \n",
       "1  6612477  relation  parking  parking   \n",
       "2  6991072  relation  parking  parking   \n",
       "3  9482153  relation  parking  parking   \n",
       "4  9744151  relation  parking  parking   \n",
       "\n",
       "                                            geometry      AREA        LAT  \\\n",
       "0  POLYGON ((4.34558 50.82464, 4.34563 50.82465, ...  0.001200  50.824695   \n",
       "1  POLYGON ((4.36742 50.85156, 4.36738 50.85155, ...  0.000825  50.851311   \n",
       "2  MULTIPOLYGON (((4.34419 50.85038, 4.34421 50.8...  0.000679  50.850653   \n",
       "3  MULTIPOLYGON (((4.29262 50.86151, 4.29277 50.8...  0.000097  50.861570   \n",
       "4  POLYGON ((4.37504 50.87448, 4.37489 50.87447, ...  0.000099  50.874443   \n",
       "\n",
       "        LON                      NAME_FRE  \n",
       "0  4.345611             HAUT SAINT-GILLES  \n",
       "1  4.367493         NOTRE-DAME AUX NEIGES  \n",
       "2  4.344075                      DANSAERT  \n",
       "3  4.292651  BERCHEM SAINTE-AGATHE CENTRE  \n",
       "4  4.374966                     COLLIGNON  "
      ]
     },
     "execution_count": 36,
     "metadata": {},
     "output_type": "execute_result"
    }
   ],
   "source": [
    "par.gdf.head()"
   ]
  },
  {
   "cell_type": "code",
   "execution_count": 37,
   "id": "ca03df0f-5957-462c-b93e-8ecd01ab0a89",
   "metadata": {},
   "outputs": [],
   "source": [
    "r_path = r\"../data/final_data/osm/parking.csv\"\n",
    "path = os.path.join(os.getcwd(), r_path)\n",
    "\n",
    "par.gdf.to_csv(path, sep=',', encoding='utf-8-sig', index=False, chunksize=10000)"
   ]
  },
  {
   "cell_type": "code",
   "execution_count": null,
   "id": "3739b083-e718-41d6-b261-7dcfbba55a1d",
   "metadata": {},
   "outputs": [],
   "source": []
  }
 ],
 "metadata": {
  "kernelspec": {
   "display_name": "Python 3 (ipykernel)",
   "language": "python",
   "name": "python3"
  },
  "language_info": {
   "codemirror_mode": {
    "name": "ipython",
    "version": 3
   },
   "file_extension": ".py",
   "mimetype": "text/x-python",
   "name": "python",
   "nbconvert_exporter": "python",
   "pygments_lexer": "ipython3",
   "version": "3.9.7"
  }
 },
 "nbformat": 4,
 "nbformat_minor": 5
}

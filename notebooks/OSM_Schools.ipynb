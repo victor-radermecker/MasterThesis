{
 "cells": [
  {
   "cell_type": "code",
   "execution_count": 3,
   "id": "db70d82f-4d7f-4776-a23d-4b755c851bc2",
   "metadata": {},
   "outputs": [],
   "source": [
    "import geopandas as gpd\n",
    "import numpy as np\n",
    "import pandas as pd\n",
    "import json\n",
    "import os\n",
    " \n",
    "import sys \n",
    "sys.path.insert(0, \"../src\")\n",
    "from BrusselsMap import BrusselsMap\n",
    "from GeoJsonHandler import GeoJsonHandler\n",
    "from OSMGeoJsonHandler import OSMGeoJsonHandler\n",
    "\n",
    "pd.set_option(\"display.max_rows\", 500)\n",
    "pd.set_option(\"display.max_columns\", 500)"
   ]
  },
  {
   "cell_type": "code",
   "execution_count": 4,
   "id": "a20aad78-9871-4e27-a280-61606d52c520",
   "metadata": {},
   "outputs": [
    {
     "name": "stdout",
     "output_type": "stream",
     "text": [
      "The autoreload extension is already loaded. To reload it, use:\n",
      "  %reload_ext autoreload\n"
     ]
    }
   ],
   "source": [
    "%load_ext autoreload\n",
    "%autoreload 2"
   ]
  },
  {
   "cell_type": "code",
   "execution_count": null,
   "id": "82b2033a-d99a-4ee7-9527-55486c5fc4b1",
   "metadata": {},
   "outputs": [],
   "source": []
  }
 ],
 "metadata": {
  "kernelspec": {
   "display_name": "mfe",
   "language": "python",
   "name": "mfe"
  },
  "language_info": {
   "codemirror_mode": {
    "name": "ipython",
    "version": 3
   },
   "file_extension": ".py",
   "mimetype": "text/x-python",
   "name": "python",
   "nbconvert_exporter": "python",
   "pygments_lexer": "ipython3",
   "version": "3.9.7"
  }
 },
 "nbformat": 4,
 "nbformat_minor": 5
}

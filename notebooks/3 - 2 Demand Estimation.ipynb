{
 "cells": [
  {
   "cell_type": "markdown",
   "id": "4ea4bd72-6753-4b91-aebf-d786e75f7635",
   "metadata": {},
   "source": [
    "`Author: Victor Radermecker | Date: 11/10/2021 | Project: Master Thesis`\n",
    "\n",
    "This notebook computes the final demand estimation using the PPR and INDR ratios."
   ]
  },
  {
   "cell_type": "code",
   "execution_count": 1,
   "id": "9d75526b-175b-437c-82a4-92894193ee58",
   "metadata": {},
   "outputs": [],
   "source": [
    "import json\n",
    "import math\n",
    "import os\n",
    "\n",
    "# Importing local libraries\n",
    "import sys\n",
    "\n",
    "import branca.colormap as cm\n",
    "import folium\n",
    "import geopandas as gpd\n",
    "import numpy as np\n",
    "import pandas as pd\n",
    "from shapely.geometry import *\n",
    "from tqdm import tqdm\n",
    "\n",
    "sys.path.insert(0, \"../src\")\n",
    "from BrusselsMap import BrusselsMap\n",
    "from GeoJsonHandler import GeoJsonHandler\n",
    "\n",
    "pd.set_option(\"display.max_rows\", 500)"
   ]
  },
  {
   "cell_type": "code",
   "execution_count": 2,
   "id": "fa405447-e8ee-4816-9553-d1cc23624a32",
   "metadata": {},
   "outputs": [],
   "source": [
    "%load_ext autoreload\n",
    "%autoreload 2"
   ]
  },
  {
   "cell_type": "markdown",
   "id": "7701d282-140d-424f-9346-ad73679a5509",
   "metadata": {},
   "source": [
    "## Demand Estimation Computation\n",
    "\n",
    "#### Proximus data"
   ]
  },
  {
   "cell_type": "code",
   "execution_count": 9,
   "id": "786ac606-77f0-41c7-a1c9-02e52ceea2bd",
   "metadata": {},
   "outputs": [
    {
     "data": {
      "text/html": [
       "<div>\n",
       "<style scoped>\n",
       "    .dataframe tbody tr th:only-of-type {\n",
       "        vertical-align: middle;\n",
       "    }\n",
       "\n",
       "    .dataframe tbody tr th {\n",
       "        vertical-align: top;\n",
       "    }\n",
       "\n",
       "    .dataframe thead th {\n",
       "        text-align: right;\n",
       "    }\n",
       "</style>\n",
       "<table border=\"1\" class=\"dataframe\">\n",
       "  <thead>\n",
       "    <tr style=\"text-align: right;\">\n",
       "      <th></th>\n",
       "      <th>NAME_FRE</th>\n",
       "      <th>REGULAR</th>\n",
       "      <th>IRREGULAR</th>\n",
       "    </tr>\n",
       "  </thead>\n",
       "  <tbody>\n",
       "    <tr>\n",
       "      <th>0</th>\n",
       "      <td>ALTITUDE 100</td>\n",
       "      <td>741855</td>\n",
       "      <td>674969</td>\n",
       "    </tr>\n",
       "    <tr>\n",
       "      <th>1</th>\n",
       "      <td>ANDERLECHT CENTRE - WAYEZ</td>\n",
       "      <td>696621</td>\n",
       "      <td>642094</td>\n",
       "    </tr>\n",
       "    <tr>\n",
       "      <th>2</th>\n",
       "      <td>ANNEESSENS</td>\n",
       "      <td>696328</td>\n",
       "      <td>663316</td>\n",
       "    </tr>\n",
       "    <tr>\n",
       "      <th>3</th>\n",
       "      <td>AUDERGHEM CENTRE</td>\n",
       "      <td>718066</td>\n",
       "      <td>719010</td>\n",
       "    </tr>\n",
       "    <tr>\n",
       "      <th>4</th>\n",
       "      <td>AVENUE LEOPOLD III</td>\n",
       "      <td>696597</td>\n",
       "      <td>638930</td>\n",
       "    </tr>\n",
       "  </tbody>\n",
       "</table>\n",
       "</div>"
      ],
      "text/plain": [
       "                    NAME_FRE  REGULAR  IRREGULAR\n",
       "0               ALTITUDE 100   741855     674969\n",
       "1  ANDERLECHT CENTRE - WAYEZ   696621     642094\n",
       "2                 ANNEESSENS   696328     663316\n",
       "3           AUDERGHEM CENTRE   718066     719010\n",
       "4         AVENUE LEOPOLD III   696597     638930"
      ]
     },
     "execution_count": 12,
     "metadata": {},
     "output_type": "execute_result"
    }
   ],
   "source": [
    "prox = pd.read_csv(\"../data/proximus/proximus_aggregated.csv\")\n",
    "prox.head()"
   ]
  },
  {
   "cell_type": "markdown",
   "id": "c08ec20b-f88c-4663-9322-6d8744c21aa0",
   "metadata": {},
   "source": [
    "#### Convert to Energy "
   ]
  },
  {
   "cell_type": "code",
   "execution_count": null,
   "id": "09861e25-d34d-49ba-9595-d1dff14fbe45",
   "metadata": {},
   "outputs": [],
   "source": [
    "dists = pd.read_csv(\"../data/final_data/DemandClusters-ODMatrix-Km.csv\").set_index(\n",
    "    \"origin\"\n",
    ")\n",
    "\n",
    "# Convert number of trips into distance\n",
    "dists_long = (\n",
    "    dists.unstack()\n",
    "    .reset_index()\n",
    "    .rename(\n",
    "        columns={\"level_0\": \"destinationNB\", \"origin\": \"originNB\", 0: \"travelDistance\"}\n",
    "    )[[\"originNB\", \"destinationNB\", \"travelDistance\"]]\n",
    ")\n",
    "prox = pd.merge(prox, dists_long, on=[\"originNB\",\"destinationNB\"], how=\"outer\").fillna(0)\n",
    "\n",
    "# Convert to Energy using IEA Assumption on EV's consumption (0.22kWh/km)\n",
    "prox['regularDemand'] = prox['regularTripSample'] * prox['travelDistance']\n",
    "prox['irregularDemand'] = prox['irregularTripSample'] * prox['travelDistance']\n",
    "prox['totalDemand'] = prox['regularDemand'] + prox['irregularDemand']\n",
    "\n",
    "prox['regularEnergyDemand'] = prox['regularDemand'] * 0.22 \n",
    "prox['irregularEnergyDemand'] = prox['irregularDemand'] * 0.22 \n",
    "\n",
    "#Aggregate data and save\n",
    "prox = prox.groupby(by=['destinationNB'])[['regularTripSample','irregularTripSample', 'travelDistance', 'regularDemand', 'irregularDemand','totalDemand', 'regularEnergyDemand','irregularEnergyDemand']].sum().reset_index()\n",
    "prox.rename(columns={'destinationNB':'NAME_FRE'}, inplace=True)\n",
    "prox.to_csv('../data/final_data/DemandEnergy.csv', index=False)"
   ]
  },
  {
   "cell_type": "markdown",
   "id": "043309db-f61e-49a4-a116-61f0328821bb",
   "metadata": {},
   "source": [
    "#### PPR Ratio"
   ]
  },
  {
   "cell_type": "code",
   "execution_count": 11,
   "id": "111157b8-818a-483d-869b-5ece4b60cece",
   "metadata": {},
   "outputs": [
    {
     "data": {
      "text/html": [
       "<div>\n",
       "<style scoped>\n",
       "    .dataframe tbody tr th:only-of-type {\n",
       "        vertical-align: middle;\n",
       "    }\n",
       "\n",
       "    .dataframe tbody tr th {\n",
       "        vertical-align: top;\n",
       "    }\n",
       "\n",
       "    .dataframe thead th {\n",
       "        text-align: right;\n",
       "    }\n",
       "</style>\n",
       "<table border=\"1\" class=\"dataframe\">\n",
       "  <thead>\n",
       "    <tr style=\"text-align: right;\">\n",
       "      <th></th>\n",
       "      <th>NAME_FRE</th>\n",
       "      <th>AREA</th>\n",
       "      <th>DENS</th>\n",
       "      <th>POP</th>\n",
       "      <th>AVG_HOUS</th>\n",
       "      <th>HOUSEHOLDS</th>\n",
       "      <th>NOT REGLEMENTED</th>\n",
       "      <th>RESERVED</th>\n",
       "      <th>REGLEMENTED</th>\n",
       "      <th>PRIVATE</th>\n",
       "      <th>PRIVATE/HOUS</th>\n",
       "    </tr>\n",
       "  </thead>\n",
       "  <tbody>\n",
       "    <tr>\n",
       "      <th>0</th>\n",
       "      <td>CONSCIENCE</td>\n",
       "      <td>0.469490</td>\n",
       "      <td>17518.92</td>\n",
       "      <td>8225</td>\n",
       "      <td>2.33</td>\n",
       "      <td>3530</td>\n",
       "      <td>0</td>\n",
       "      <td>57</td>\n",
       "      <td>1260</td>\n",
       "      <td>551</td>\n",
       "      <td>0.156091</td>\n",
       "    </tr>\n",
       "    <tr>\n",
       "      <th>1</th>\n",
       "      <td>HELMET</td>\n",
       "      <td>0.718634</td>\n",
       "      <td>17717.47</td>\n",
       "      <td>12732</td>\n",
       "      <td>2.54</td>\n",
       "      <td>5013</td>\n",
       "      <td>0</td>\n",
       "      <td>81</td>\n",
       "      <td>2315</td>\n",
       "      <td>552</td>\n",
       "      <td>0.110114</td>\n",
       "    </tr>\n",
       "    <tr>\n",
       "      <th>2</th>\n",
       "      <td>VIEUX LAEKEN OUEST</td>\n",
       "      <td>0.499646</td>\n",
       "      <td>16781.39</td>\n",
       "      <td>8385</td>\n",
       "      <td>2.55</td>\n",
       "      <td>3288</td>\n",
       "      <td>0</td>\n",
       "      <td>90</td>\n",
       "      <td>996</td>\n",
       "      <td>310</td>\n",
       "      <td>0.094282</td>\n",
       "    </tr>\n",
       "    <tr>\n",
       "      <th>3</th>\n",
       "      <td>VIEUX LAEKEN EST</td>\n",
       "      <td>1.040450</td>\n",
       "      <td>18272.53</td>\n",
       "      <td>19012</td>\n",
       "      <td>2.61</td>\n",
       "      <td>7284</td>\n",
       "      <td>0</td>\n",
       "      <td>211</td>\n",
       "      <td>2858</td>\n",
       "      <td>664</td>\n",
       "      <td>0.091159</td>\n",
       "    </tr>\n",
       "    <tr>\n",
       "      <th>4</th>\n",
       "      <td>INDUSTRIE NORD</td>\n",
       "      <td>6.733601</td>\n",
       "      <td>261.99</td>\n",
       "      <td>1764</td>\n",
       "      <td>2.18</td>\n",
       "      <td>809</td>\n",
       "      <td>1277</td>\n",
       "      <td>26</td>\n",
       "      <td>248</td>\n",
       "      <td>218</td>\n",
       "      <td>0.269468</td>\n",
       "    </tr>\n",
       "  </tbody>\n",
       "</table>\n",
       "</div>"
      ],
      "text/plain": [
       "             NAME_FRE      AREA      DENS    POP  AVG_HOUS  HOUSEHOLDS  \\\n",
       "0          CONSCIENCE  0.469490  17518.92   8225      2.33        3530   \n",
       "1              HELMET  0.718634  17717.47  12732      2.54        5013   \n",
       "2  VIEUX LAEKEN OUEST  0.499646  16781.39   8385      2.55        3288   \n",
       "3    VIEUX LAEKEN EST  1.040450  18272.53  19012      2.61        7284   \n",
       "4      INDUSTRIE NORD  6.733601    261.99   1764      2.18         809   \n",
       "\n",
       "   NOT REGLEMENTED  RESERVED  REGLEMENTED  PRIVATE  PRIVATE/HOUS  \n",
       "0                0        57         1260      551      0.156091  \n",
       "1                0        81         2315      552      0.110114  \n",
       "2                0        90          996      310      0.094282  \n",
       "3                0       211         2858      664      0.091159  \n",
       "4             1277        26          248      218      0.269468  "
      ]
     },
     "execution_count": 11,
     "metadata": {},
     "output_type": "execute_result"
    }
   ],
   "source": [
    "# Loading parking and population data\n",
    "parking = pd.read_csv(\"../data/final_data/parkings_ratio.csv\")\n",
    "parking.head()"
   ]
  },
  {
   "cell_type": "markdown",
   "id": "97bb4d09-6105-46ae-b330-85d5d0a7f533",
   "metadata": {},
   "source": [
    "#### INDR Ratio"
   ]
  },
  {
   "cell_type": "code",
   "execution_count": null,
   "id": "7b625cf3-c063-48ed-9cdd-4742de151955",
   "metadata": {},
   "outputs": [],
   "source": []
  },
  {
   "cell_type": "markdown",
   "id": "0f154302-fa16-49f9-b758-ca2cab723669",
   "metadata": {},
   "source": [
    "### Merge datasets together"
   ]
  },
  {
   "cell_type": "code",
   "execution_count": null,
   "id": "0f7c6f95-8c31-4e23-82fa-f605a8a44b96",
   "metadata": {},
   "outputs": [],
   "source": [
    "\n",
    "prox = pd.merge(prox, data[['NAME_FRE','PRIVATE/HOUS']], on=\"NAME_FRE\", how=\"outer\")\n",
    "prox = prox.fillna(0)\n",
    "\n",
    "prox['REGULAR_CORR'] = prox['REGULAR'] * (1-prox['PRIVATE/HOUS'])\n",
    "prox['IRREGULAR_CORR'] = prox['IRREGULAR'] * (1-prox['PRIVATE/HOUS'])\n",
    "prox.head()"
   ]
  },
  {
   "cell_type": "code",
   "execution_count": null,
   "id": "7b07e7a0-f8b5-4e7b-8d96-2ef6d66ce553",
   "metadata": {},
   "outputs": [],
   "source": [
    "\n",
    "#Load geodata\n",
    "r_path = r\"../data/final_data/sector.json\"\n",
    "path = os.path.join(os.getcwd(), r_path)\n",
    "sectors = GeoJsonHandler(path, \"NAME_FRE\")"
   ]
  },
  {
   "cell_type": "markdown",
   "id": "3481266b-701c-41a2-be95-e161d33a5343",
   "metadata": {
    "tags": []
   },
   "source": [
    "#### INDR Ratio Data"
   ]
  }
 ],
 "metadata": {
  "kernelspec": {
   "display_name": "mfe_env",
   "language": "python",
   "name": "mfe_env"
  },
  "language_info": {
   "codemirror_mode": {
    "name": "ipython",
    "version": 3
   },
   "file_extension": ".py",
   "mimetype": "text/x-python",
   "name": "python",
   "nbconvert_exporter": "python",
   "pygments_lexer": "ipython3",
   "version": "3.9.7"
  }
 },
 "nbformat": 4,
 "nbformat_minor": 5
}

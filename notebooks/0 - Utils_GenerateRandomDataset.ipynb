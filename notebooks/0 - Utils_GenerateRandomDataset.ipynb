{
 "cells": [
  {
   "cell_type": "markdown",
   "id": "bcbb79ac-e7e8-471e-901f-a4ee4baba03b",
   "metadata": {},
   "source": [
    "`Author: Victor Radermecker | Date: 11/10/2021 | Project: Master Thesis`\n",
    "\n",
    "This Notebook generates the Proximus Hourly Dataset."
   ]
  },
  {
   "cell_type": "code",
   "execution_count": 79,
   "id": "237e397f-921a-4621-ae54-e39152d3c512",
   "metadata": {},
   "outputs": [],
   "source": [
    "import pandas as pd\n",
    "import numpy as np\n",
    "from tqdm import tqdm"
   ]
  },
  {
   "cell_type": "code",
   "execution_count": 80,
   "id": "3731269a-a8ef-49f3-a1f5-405510bdff1a",
   "metadata": {},
   "outputs": [
    {
     "data": {
      "text/html": [
       "<div>\n",
       "<style scoped>\n",
       "    .dataframe tbody tr th:only-of-type {\n",
       "        vertical-align: middle;\n",
       "    }\n",
       "\n",
       "    .dataframe tbody tr th {\n",
       "        vertical-align: top;\n",
       "    }\n",
       "\n",
       "    .dataframe thead th {\n",
       "        text-align: right;\n",
       "    }\n",
       "</style>\n",
       "<table border=\"1\" class=\"dataframe\">\n",
       "  <thead>\n",
       "    <tr style=\"text-align: right;\">\n",
       "      <th></th>\n",
       "      <th>Unnamed: 0</th>\n",
       "      <th>originNB</th>\n",
       "      <th>destinationNB</th>\n",
       "      <th>regularTripSample</th>\n",
       "      <th>irregularTripSample</th>\n",
       "    </tr>\n",
       "  </thead>\n",
       "  <tbody>\n",
       "    <tr>\n",
       "      <th>0</th>\n",
       "      <td>1</td>\n",
       "      <td>ALTITUDE 100</td>\n",
       "      <td>ALTITUDE 100</td>\n",
       "      <td>242</td>\n",
       "      <td>4066</td>\n",
       "    </tr>\n",
       "    <tr>\n",
       "      <th>1</th>\n",
       "      <td>2</td>\n",
       "      <td>ALTITUDE 100</td>\n",
       "      <td>ANDERLECHT CENTRE - WAYEZ</td>\n",
       "      <td>9666</td>\n",
       "      <td>7490</td>\n",
       "    </tr>\n",
       "    <tr>\n",
       "      <th>2</th>\n",
       "      <td>3</td>\n",
       "      <td>ALTITUDE 100</td>\n",
       "      <td>ANNEESSENS</td>\n",
       "      <td>556</td>\n",
       "      <td>8981</td>\n",
       "    </tr>\n",
       "    <tr>\n",
       "      <th>3</th>\n",
       "      <td>4</td>\n",
       "      <td>ALTITUDE 100</td>\n",
       "      <td>AUDERGHEM CENTRE</td>\n",
       "      <td>9465</td>\n",
       "      <td>7964</td>\n",
       "    </tr>\n",
       "    <tr>\n",
       "      <th>4</th>\n",
       "      <td>5</td>\n",
       "      <td>ALTITUDE 100</td>\n",
       "      <td>AVENUE LEOPOLD III</td>\n",
       "      <td>7479</td>\n",
       "      <td>318</td>\n",
       "    </tr>\n",
       "  </tbody>\n",
       "</table>\n",
       "</div>"
      ],
      "text/plain": [
       "   Unnamed: 0      originNB              destinationNB  regularTripSample  \\\n",
       "0           1  ALTITUDE 100               ALTITUDE 100                242   \n",
       "1           2  ALTITUDE 100  ANDERLECHT CENTRE - WAYEZ               9666   \n",
       "2           3  ALTITUDE 100                 ANNEESSENS                556   \n",
       "3           4  ALTITUDE 100           AUDERGHEM CENTRE               9465   \n",
       "4           5  ALTITUDE 100         AVENUE LEOPOLD III               7479   \n",
       "\n",
       "   irregularTripSample  \n",
       "0                 4066  \n",
       "1                 7490  \n",
       "2                 8981  \n",
       "3                 7964  \n",
       "4                  318  "
      ]
     },
     "execution_count": 80,
     "metadata": {},
     "output_type": "execute_result"
    }
   ],
   "source": [
    "colnames = ['NAME_FRE', 'REGULAR', 'IRREGULAR']\n",
    "\n",
    "prox = pd.read_csv(\"../data/proximus/proximusFrequentTrip_RandomlyGenerated.csv\")\n",
    "prox.drop(columns=['Unnamed: 0'])\n",
    "prox.head()"
   ]
  },
  {
   "cell_type": "markdown",
   "id": "8b919e6f-3f03-4f92-b400-4184ee8022ba",
   "metadata": {},
   "source": [
    "# Generate the random dataset"
   ]
  },
  {
   "cell_type": "code",
   "execution_count": 76,
   "id": "89f1de5c-ad19-4505-ab7e-8cd255e202dd",
   "metadata": {},
   "outputs": [
    {
     "name": "stderr",
     "output_type": "stream",
     "text": [
      "100%|█████████████████████████████████████████████████████████████████████████████████████████████████████████████████████████████████████████████████████████████████████████████████████████| 139/139 [00:02<00:00, 47.34it/s]\n"
     ]
    }
   ],
   "source": [
    "ngh_names = prox['originNB'].unique()\n",
    "colnames = ['originNB', 'destinationNB', 'arrival_hr', 'regularTripSample', 'irregularTripSample']\n",
    "data= pd.DataFrame(columns=colnames)\n",
    "data.head()\n",
    "\n",
    "for i in tqdm(ngh_names):\n",
    "    temp_ = pd.DataFrame()\n",
    "    temp_['originNB'] = [i for l in range(24*len(ngh_names))]\n",
    "    temp_['destinationNB'] = np.repeat(ngh_names, 24) \n",
    "    temp_['arrival_hr'] = list(np.arange(0,24))*len(ngh_names)\n",
    "    temp_['regularTripSample'] = pd.Series(np.random.randint(low=0, high=10000, size=24*len(ngh_names)))\n",
    "    temp_['irregularTripSample'] = pd.Series(np.random.randint(low=0, high=10000, size=24*len(ngh_names)))\n",
    "    \n",
    "    data = data.append(temp_)"
   ]
  },
  {
   "cell_type": "code",
   "execution_count": 77,
   "id": "7d28ed5c-642c-4c28-9586-6862ed46c610",
   "metadata": {},
   "outputs": [],
   "source": [
    "#Save dataset\n",
    "data.to_csv('../data/proximus/hourly_proximusFrequentTrip_RandomlyGenerated.csv', index=False)"
   ]
  }
 ],
 "metadata": {
  "kernelspec": {
   "display_name": "mfe",
   "language": "python",
   "name": "mfe"
  },
  "language_info": {
   "codemirror_mode": {
    "name": "ipython",
    "version": 3
   },
   "file_extension": ".py",
   "mimetype": "text/x-python",
   "name": "python",
   "nbconvert_exporter": "python",
   "pygments_lexer": "ipython3",
   "version": "3.9.7"
  }
 },
 "nbformat": 4,
 "nbformat_minor": 5
}

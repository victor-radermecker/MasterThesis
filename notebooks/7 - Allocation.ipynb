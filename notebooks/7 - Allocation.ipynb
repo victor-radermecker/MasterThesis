{
 "cells": [
  {
   "cell_type": "code",
   "execution_count": 1,
   "id": "d6be65b2-1fc0-497b-95b4-98bf31a5df46",
   "metadata": {},
   "outputs": [],
   "source": [
    "import json\n",
    "import os\n",
    "import sys\n",
    "\n",
    "import branca\n",
    "import branca.colormap as cm\n",
    "import geopandas as gpd\n",
    "import numpy as np\n",
    "import pandas as pd\n",
    "\n",
    "sys.path.insert(0, \"../src\")\n",
    "from BrusselsMap import BrusselsMap\n",
    "from GeoJsonHandler import GeoJsonHandler\n",
    "from OSMGeoJsonHandler import OSMGeoJsonHandler\n",
    "\n",
    "pd.set_option(\"display.max_rows\", 500)\n",
    "pd.set_option(\"display.max_columns\", 500)\n",
    "\n",
    "import warnings\n",
    "warnings.filterwarnings('ignore')"
   ]
  },
  {
   "cell_type": "code",
   "execution_count": 2,
   "id": "32442bed-181c-42c5-9ff2-d7ecaa2c40ea",
   "metadata": {},
   "outputs": [],
   "source": [
    "%load_ext autoreload\n",
    "%autoreload 2"
   ]
  },
  {
   "cell_type": "markdown",
   "id": "e7a38711-c515-4513-87d2-2cc6bb28c562",
   "metadata": {},
   "source": [
    "## Read fuel station candidates "
   ]
  },
  {
   "cell_type": "code",
   "execution_count": 6,
   "id": "2a8f57c7-e427-4c44-8482-490c40a30a7a",
   "metadata": {},
   "outputs": [],
   "source": [
    "r_path = r\"../data/osm/overpass-turbo/candidates_fuel_stations.geojson\"\n",
    "path = os.path.join(os.getcwd(), r_path)\n",
    "\n",
    "fs = OSMGeoJsonHandler(r_path, feature_type='parking')"
   ]
  },
  {
   "cell_type": "code",
   "execution_count": 12,
   "id": "ba9b29a9-6252-4940-8813-45885e787825",
   "metadata": {},
   "outputs": [
    {
     "data": {
      "text/plain": [
       "134"
      ]
     },
     "execution_count": 12,
     "metadata": {},
     "output_type": "execute_result"
    }
   ],
   "source": [
    "len(fs.geodata['features'])"
   ]
  },
  {
   "cell_type": "code",
   "execution_count": null,
   "id": "7d517031-6f58-4d7a-bc04-5162e9e2de01",
   "metadata": {},
   "outputs": [],
   "source": []
  }
 ],
 "metadata": {
  "kernelspec": {
   "display_name": "mfe_env",
   "language": "python",
   "name": "mfe_env"
  },
  "language_info": {
   "codemirror_mode": {
    "name": "ipython",
    "version": 3
   },
   "file_extension": ".py",
   "mimetype": "text/x-python",
   "name": "python",
   "nbconvert_exporter": "python",
   "pygments_lexer": "ipython3",
   "version": "3.9.7"
  }
 },
 "nbformat": 4,
 "nbformat_minor": 5
}

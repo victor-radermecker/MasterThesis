{
 "cells": [
  {
   "cell_type": "markdown",
   "id": "7acfeef7-9f8b-4a3a-b1bc-64e2e13afbf3",
   "metadata": {},
   "source": [
    "`Author: Victor Radermecker | Date: 11/10/2021 | Project: Master Thesis`"
   ]
  },
  {
   "cell_type": "markdown",
   "id": "dd18ef2b-8693-42b5-ad71-75f5389c5fd1",
   "metadata": {},
   "source": [
    "## Imports"
   ]
  },
  {
   "cell_type": "code",
   "execution_count": 14,
   "id": "f0ab9bc5-57e5-4be3-b06a-f0ddcf2101ab",
   "metadata": {},
   "outputs": [],
   "source": [
    "import branca.colormap as cm\n",
    "import folium\n",
    "import geopandas as gpd\n",
    "import pandas as pd\n",
    "import pyproj\n",
    "import shapely.ops as sp_ops\n",
    "from pyproj import Transformer\n",
    "from tqdm.auto import tqdm\n",
    "\n",
    "tqdm.pandas()\n",
    "pd.set_option(\"display.max_columns\", 100)"
   ]
  },
  {
   "cell_type": "markdown",
   "id": "f7bf6249-33a9-4574-a30c-e33b84d328ef",
   "metadata": {},
   "source": [
    "## Global Functions and variables"
   ]
  },
  {
   "cell_type": "code",
   "execution_count": 15,
   "id": "899daca4-da31-4e01-b985-28f74f1a0a6f",
   "metadata": {},
   "outputs": [],
   "source": [
    "belgian_coords = 31370\n",
    "gps_coords = 4326"
   ]
  },
  {
   "cell_type": "code",
   "execution_count": 6,
   "id": "389c58cf-6674-4c5d-99b3-78a761ca77e0",
   "metadata": {},
   "outputs": [],
   "source": [
    "def transform_geom_to_srid(geom, scrs, tcrs):\n",
    "    \"\"\" Transform a geometry to a new target CRS.\n",
    "        Works with pyproj version >= 2.x.x\n",
    "        - geom is a Shapely geometry instance\n",
    "        - scrs is your input CRS EPSG integer (the one of your original data)\n",
    "        - tcrs is your target CRS EPSG integer (the one you want to reproject\n",
    "                  your data in, probably 4326 in your case)\n",
    "    \"\"\"\n",
    "    project = Transformer.from_crs(\n",
    "        \"EPSG:\" + str(scrs), \"EPSG:\" + str(tcrs), always_xy=True\n",
    "    )\n",
    "    return sp_ops.transform(project.transform, geom)"
   ]
  },
  {
   "cell_type": "markdown",
   "id": "72855511-bb9d-4ada-8d33-9c3c8924c4af",
   "metadata": {},
   "source": [
    "## Statistical sectors - Preprocessing"
   ]
  },
  {
   "cell_type": "code",
   "execution_count": 9,
   "id": "32d60850-defe-4bd4-a3a9-3c918679c26d",
   "metadata": {},
   "outputs": [
    {
     "name": "stdout",
     "output_type": "stream",
     "text": [
      "Number of statistical sectors for RBC:  724\n"
     ]
    },
    {
     "data": {
      "text/html": [
       "<div>\n",
       "<style scoped>\n",
       "    .dataframe tbody tr th:only-of-type {\n",
       "        vertical-align: middle;\n",
       "    }\n",
       "\n",
       "    .dataframe tbody tr th {\n",
       "        vertical-align: top;\n",
       "    }\n",
       "\n",
       "    .dataframe thead th {\n",
       "        text-align: right;\n",
       "    }\n",
       "</style>\n",
       "<table border=\"1\" class=\"dataframe\">\n",
       "  <thead>\n",
       "    <tr style=\"text-align: right;\">\n",
       "      <th></th>\n",
       "      <th>Sector</th>\n",
       "      <th>T_REGIO_FR</th>\n",
       "      <th>T_SEC_FR</th>\n",
       "      <th>geometry</th>\n",
       "    </tr>\n",
       "  </thead>\n",
       "  <tbody>\n",
       "    <tr>\n",
       "      <th>1997</th>\n",
       "      <td>21001A00-</td>\n",
       "      <td>Région de Bruxelles-Capitale</td>\n",
       "      <td>RESISTANCE</td>\n",
       "      <td>POLYGON Z ((146125.190 169525.098 0.000, 14612...</td>\n",
       "    </tr>\n",
       "    <tr>\n",
       "      <th>1998</th>\n",
       "      <td>21001A011</td>\n",
       "      <td>Région de Bruxelles-Capitale</td>\n",
       "      <td>KLEINMOLEN</td>\n",
       "      <td>POLYGON Z ((146420.844 169763.840 0.000, 14647...</td>\n",
       "    </tr>\n",
       "    <tr>\n",
       "      <th>1999</th>\n",
       "      <td>21001A02-</td>\n",
       "      <td>Région de Bruxelles-Capitale</td>\n",
       "      <td>WAYEZ</td>\n",
       "      <td>POLYGON Z ((146389.484 169587.606 0.000, 14638...</td>\n",
       "    </tr>\n",
       "    <tr>\n",
       "      <th>2000</th>\n",
       "      <td>21001A031</td>\n",
       "      <td>Région de Bruxelles-Capitale</td>\n",
       "      <td>RAUTER-SUD</td>\n",
       "      <td>POLYGON Z ((145888.469 169013.527 0.000, 14584...</td>\n",
       "    </tr>\n",
       "    <tr>\n",
       "      <th>2001</th>\n",
       "      <td>21001A041</td>\n",
       "      <td>Région de Bruxelles-Capitale</td>\n",
       "      <td>VEEWEYDE-SUD</td>\n",
       "      <td>POLYGON Z ((145327.859 169178.606 0.000, 14533...</td>\n",
       "    </tr>\n",
       "  </tbody>\n",
       "</table>\n",
       "</div>"
      ],
      "text/plain": [
       "         Sector                    T_REGIO_FR      T_SEC_FR  \\\n",
       "1997  21001A00-  Région de Bruxelles-Capitale    RESISTANCE   \n",
       "1998  21001A011  Région de Bruxelles-Capitale    KLEINMOLEN   \n",
       "1999  21001A02-  Région de Bruxelles-Capitale         WAYEZ   \n",
       "2000  21001A031  Région de Bruxelles-Capitale    RAUTER-SUD   \n",
       "2001  21001A041  Région de Bruxelles-Capitale  VEEWEYDE-SUD   \n",
       "\n",
       "                                               geometry  \n",
       "1997  POLYGON Z ((146125.190 169525.098 0.000, 14612...  \n",
       "1998  POLYGON Z ((146420.844 169763.840 0.000, 14647...  \n",
       "1999  POLYGON Z ((146389.484 169587.606 0.000, 14638...  \n",
       "2000  POLYGON Z ((145888.469 169013.527 0.000, 14584...  \n",
       "2001  POLYGON Z ((145327.859 169178.606 0.000, 14533...  "
      ]
     },
     "execution_count": 9,
     "metadata": {},
     "output_type": "execute_result"
    }
   ],
   "source": [
    "# Statistical Sectors\n",
    "fname = (\n",
    "    \"../data/maps/stat_sectors/shapefile/sh_statbel_statistical_sectors_20210101.shp\"\n",
    ")\n",
    "\n",
    "# Read and display\n",
    "ss = gpd.read_file(fname)\n",
    "\n",
    "# Keep only statistical sectors from RBC and rename 'CS01012021' column to 'Sector'\n",
    "ss = ss[ss[\"T_REGIO_FR\"] == \"Région de Bruxelles-Capitale\"]\n",
    "ss = ss[[\"CS01012021\", \"T_REGIO_FR\", \"T_SEC_FR\", \"geometry\"]]\n",
    "ss.rename(columns={\"CS01012021\": \"Sector\"}, inplace=True)\n",
    "print(\"Number of statistical sectors for RBC: \", len(ss))\n",
    "\n",
    "ss.head()"
   ]
  },
  {
   "cell_type": "markdown",
   "id": "e9dcb0be-e391-4284-a4d6-0d2bcfec4de5",
   "metadata": {},
   "source": [
    "#### Start conversion \n",
    "\n",
    "This cell starts the conversion from the Belgian coordinate system to the universal GPS system.\n",
    "\n",
    "<div class=\"alert alert-block alert-warning\">\n",
    "Warning: Takes about an hour (for whole Belgium). RBC is faster.\n",
    "</div>"
   ]
  },
  {
   "cell_type": "code",
   "execution_count": null,
   "id": "9dfaaa41-eb8d-4306-86c7-112de4b3d6d8",
   "metadata": {},
   "outputs": [],
   "source": [
    "ss[\"geometry\"] = ss[\"geometry\"].progress_apply(\n",
    "    transform_geom_to_srid, args=(belgian_coords, gps_coords,)\n",
    ")"
   ]
  },
  {
   "cell_type": "code",
   "execution_count": null,
   "id": "9d3921c9-040d-4a03-a2c1-e602a2d7a688",
   "metadata": {},
   "outputs": [],
   "source": [
    "save_json = True\n",
    "save_shp = False\n",
    "\n",
    "# Save to GeoJson file for choropleth maps\n",
    "if save_json:\n",
    "    ss.to_file(\n",
    "        \"../data/maps/stat_sectors/json/RBC_stat_sectors_2021.json\", driver=\"GeoJSON\"\n",
    "    )\n",
    "\n",
    "if save_shp:\n",
    "    ss.to_file(\"../data/maps/stat_sectors/shapefile/RBC_stats_sectors_2021_gps.shp\")"
   ]
  },
  {
   "cell_type": "markdown",
   "id": "d458341a-ecf3-4e4a-a79e-1f303aa9a732",
   "metadata": {},
   "source": [
    "## Proximus Neighborhoods - Preprocessing"
   ]
  },
  {
   "cell_type": "code",
   "execution_count": 16,
   "id": "7ecea769-d7e7-49e4-af0e-be023258fe39",
   "metadata": {
    "tags": []
   },
   "outputs": [
    {
     "data": {
      "text/html": [
       "<div>\n",
       "<style scoped>\n",
       "    .dataframe tbody tr th:only-of-type {\n",
       "        vertical-align: middle;\n",
       "    }\n",
       "\n",
       "    .dataframe tbody tr th {\n",
       "        vertical-align: top;\n",
       "    }\n",
       "\n",
       "    .dataframe thead th {\n",
       "        text-align: right;\n",
       "    }\n",
       "</style>\n",
       "<table border=\"1\" class=\"dataframe\">\n",
       "  <thead>\n",
       "    <tr style=\"text-align: right;\">\n",
       "      <th></th>\n",
       "      <th>ID</th>\n",
       "      <th>VERSIONID</th>\n",
       "      <th>MDRC</th>\n",
       "      <th>NAME_FRE</th>\n",
       "      <th>NAME_DUT</th>\n",
       "      <th>NAME_BIL</th>\n",
       "      <th>AREA</th>\n",
       "      <th>INSPIRE_ID</th>\n",
       "      <th>BEGIN_LIFE</th>\n",
       "      <th>END_LIFE</th>\n",
       "      <th>geometry</th>\n",
       "    </tr>\n",
       "  </thead>\n",
       "  <tbody>\n",
       "    <tr>\n",
       "      <th>0</th>\n",
       "      <td>83.0</td>\n",
       "      <td>1.0</td>\n",
       "      <td>83</td>\n",
       "      <td>CONSCIENCE</td>\n",
       "      <td>CONSCIENCE</td>\n",
       "      <td>CONSCIENCE</td>\n",
       "      <td>469489.90</td>\n",
       "      <td>BE.BRUSSELS.BRIC.ADM.MD.53</td>\n",
       "      <td>2015-10-05</td>\n",
       "      <td>None</td>\n",
       "      <td>POLYGON Z ((151836.566 173466.414 0.000, 15186...</td>\n",
       "    </tr>\n",
       "    <tr>\n",
       "      <th>1</th>\n",
       "      <td>80.0</td>\n",
       "      <td>1.0</td>\n",
       "      <td>80</td>\n",
       "      <td>HELMET</td>\n",
       "      <td>HELMET</td>\n",
       "      <td>HELMET</td>\n",
       "      <td>718634.24</td>\n",
       "      <td>BE.BRUSSELS.BRIC.ADM.MD.54</td>\n",
       "      <td>2015-10-05</td>\n",
       "      <td>None</td>\n",
       "      <td>POLYGON Z ((150764.790 173563.033 0.000, 15080...</td>\n",
       "    </tr>\n",
       "    <tr>\n",
       "      <th>2</th>\n",
       "      <td>19.0</td>\n",
       "      <td>1.0</td>\n",
       "      <td>19</td>\n",
       "      <td>VIEUX LAEKEN OUEST</td>\n",
       "      <td>OUD LAKEN WEST</td>\n",
       "      <td>OUD LAKEN WEST / VIEUX LAEKEN OUEST</td>\n",
       "      <td>499645.52</td>\n",
       "      <td>BE.BRUSSELS.BRIC.ADM.MD.123</td>\n",
       "      <td>2015-10-05</td>\n",
       "      <td>None</td>\n",
       "      <td>POLYGON Z ((147858.070 174004.707 0.000, 14786...</td>\n",
       "    </tr>\n",
       "    <tr>\n",
       "      <th>3</th>\n",
       "      <td>20.0</td>\n",
       "      <td>1.0</td>\n",
       "      <td>20</td>\n",
       "      <td>VIEUX LAEKEN EST</td>\n",
       "      <td>OUD LAKEN OOST</td>\n",
       "      <td>OUD LAKEN OOST / VIEUX LAEKEN EST</td>\n",
       "      <td>1040449.92</td>\n",
       "      <td>BE.BRUSSELS.BRIC.ADM.MD.66</td>\n",
       "      <td>2015-10-05</td>\n",
       "      <td>None</td>\n",
       "      <td>POLYGON Z ((148132.120 173445.561 0.000, 14813...</td>\n",
       "    </tr>\n",
       "    <tr>\n",
       "      <th>4</th>\n",
       "      <td>800.0</td>\n",
       "      <td>1.0</td>\n",
       "      <td>800</td>\n",
       "      <td>INDUSTRIE NORD</td>\n",
       "      <td>INDUSTRIE NOORD</td>\n",
       "      <td>INDUSTRIE NOORD / NORD</td>\n",
       "      <td>6733601.22</td>\n",
       "      <td>BE.BRUSSELS.BRIC.ADM.MD.70</td>\n",
       "      <td>2018-01-02</td>\n",
       "      <td>None</td>\n",
       "      <td>POLYGON Z ((151113.691 177049.939 0.000, 15111...</td>\n",
       "    </tr>\n",
       "  </tbody>\n",
       "</table>\n",
       "</div>"
      ],
      "text/plain": [
       "      ID  VERSIONID  MDRC            NAME_FRE         NAME_DUT  \\\n",
       "0   83.0        1.0    83          CONSCIENCE       CONSCIENCE   \n",
       "1   80.0        1.0    80              HELMET           HELMET   \n",
       "2   19.0        1.0    19  VIEUX LAEKEN OUEST   OUD LAKEN WEST   \n",
       "3   20.0        1.0    20    VIEUX LAEKEN EST   OUD LAKEN OOST   \n",
       "4  800.0        1.0   800      INDUSTRIE NORD  INDUSTRIE NOORD   \n",
       "\n",
       "                              NAME_BIL        AREA  \\\n",
       "0                           CONSCIENCE   469489.90   \n",
       "1                               HELMET   718634.24   \n",
       "2  OUD LAKEN WEST / VIEUX LAEKEN OUEST   499645.52   \n",
       "3    OUD LAKEN OOST / VIEUX LAEKEN EST  1040449.92   \n",
       "4               INDUSTRIE NOORD / NORD  6733601.22   \n",
       "\n",
       "                    INSPIRE_ID  BEGIN_LIFE END_LIFE  \\\n",
       "0   BE.BRUSSELS.BRIC.ADM.MD.53  2015-10-05     None   \n",
       "1   BE.BRUSSELS.BRIC.ADM.MD.54  2015-10-05     None   \n",
       "2  BE.BRUSSELS.BRIC.ADM.MD.123  2015-10-05     None   \n",
       "3   BE.BRUSSELS.BRIC.ADM.MD.66  2015-10-05     None   \n",
       "4   BE.BRUSSELS.BRIC.ADM.MD.70  2018-01-02     None   \n",
       "\n",
       "                                            geometry  \n",
       "0  POLYGON Z ((151836.566 173466.414 0.000, 15186...  \n",
       "1  POLYGON Z ((150764.790 173563.033 0.000, 15080...  \n",
       "2  POLYGON Z ((147858.070 174004.707 0.000, 14786...  \n",
       "3  POLYGON Z ((148132.120 173445.561 0.000, 14813...  \n",
       "4  POLYGON Z ((151113.691 177049.939 0.000, 15111...  "
      ]
     },
     "execution_count": 16,
     "metadata": {},
     "output_type": "execute_result"
    }
   ],
   "source": [
    "# Statistical Sectors\n",
    "fname = \"../data/maps/prox_neighbor/shapefile/UrbAdm_MONITORING_DISTRICT.shp\"\n",
    "\n",
    "# Read and display\n",
    "pn = gpd.read_file(fname)\n",
    "\n",
    "pn.head()"
   ]
  },
  {
   "cell_type": "markdown",
   "id": "cdcb7a8d-4b5e-4a46-9cf0-3a63186bf60f",
   "metadata": {},
   "source": [
    "#### Start conversion \n",
    "\n",
    "This cell starts the conversion from the Belgian coordinate system to the universal GPS system."
   ]
  },
  {
   "cell_type": "code",
   "execution_count": 17,
   "id": "9cdd0e15-dc06-4829-838c-9a9f4c6332fb",
   "metadata": {},
   "outputs": [
    {
     "data": {
      "application/vnd.jupyter.widget-view+json": {
       "model_id": "eaf8800239f446ad83b1b95f7cbcef8c",
       "version_major": 2,
       "version_minor": 0
      },
      "text/plain": [
       "  0%|          | 0/145 [00:00<?, ?it/s]"
      ]
     },
     "metadata": {},
     "output_type": "display_data"
    }
   ],
   "source": [
    "pn[\"geometry\"] = pn[\"geometry\"].progress_apply(\n",
    "    transform_geom_to_srid, args=(belgian_coords, gps_coords,)\n",
    ")"
   ]
  },
  {
   "cell_type": "code",
   "execution_count": 18,
   "id": "f254d85a-366d-4cba-b4cd-679e42ec1d98",
   "metadata": {},
   "outputs": [],
   "source": [
    "save_json = True\n",
    "save_shp = False\n",
    "\n",
    "# Save to GeoJson file for choropleth maps\n",
    "if save_json:\n",
    "    pn.to_file(\n",
    "        \"../data/maps/prox_neighbor/json/RBC_Neighborhoods_gps.json\", driver=\"GeoJSON\"\n",
    "    )\n",
    "\n",
    "if save_shp:\n",
    "    pn.to_file(\"../data/maps/prox_neighbor/shapefile/RBC_Neighborhoods_gps.json\")"
   ]
  },
  {
   "cell_type": "code",
   "execution_count": null,
   "id": "193d90bf-3716-4e1d-9024-c77d4813b1c9",
   "metadata": {},
   "outputs": [],
   "source": []
  }
 ],
 "metadata": {
  "kernelspec": {
   "display_name": "mfe",
   "language": "python",
   "name": "mfe"
  },
  "language_info": {
   "codemirror_mode": {
    "name": "ipython",
    "version": 3
   },
   "file_extension": ".py",
   "mimetype": "text/x-python",
   "name": "python",
   "nbconvert_exporter": "python",
   "pygments_lexer": "ipython3",
   "version": "3.9.7"
  }
 },
 "nbformat": 4,
 "nbformat_minor": 5
}

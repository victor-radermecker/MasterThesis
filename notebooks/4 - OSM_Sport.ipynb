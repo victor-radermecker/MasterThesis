{
 "cells": [
  {
   "cell_type": "code",
   "execution_count": 16,
   "id": "5fd3196a-acc9-4ede-b0c3-cf05f9d595f8",
   "metadata": {},
   "outputs": [],
   "source": [
    "import geopandas as gpd\n",
    "import numpy as np\n",
    "import pandas as pd\n",
    "import json\n",
    "import os\n",
    "import seaborn as sns\n",
    " \n",
    "import sys \n",
    "sys.path.insert(0, \"../src\")\n",
    "from BrusselsMap import BrusselsMap\n",
    "from GeoJsonHandler import GeoJsonHandler\n",
    "from OSMGeoJsonHandler import OSMGeoJsonHandler\n",
    "\n",
    "pd.set_option(\"display.max_rows\", 500)\n",
    "pd.set_option(\"display.max_columns\", 500)"
   ]
  },
  {
   "cell_type": "code",
   "execution_count": 2,
   "id": "0ae331a0-c565-4b79-8076-4eaa6b93df65",
   "metadata": {},
   "outputs": [],
   "source": [
    "%load_ext autoreload\n",
    "%autoreload 2"
   ]
  },
  {
   "cell_type": "code",
   "execution_count": 3,
   "id": "4b728286-2f5f-4d00-b354-55deca605b15",
   "metadata": {},
   "outputs": [],
   "source": [
    "r_path = r\"../data/osm/overpass-turbo/sport.geojson\"\n",
    "path = os.path.join(os.getcwd(), r_path)\n",
    "\n",
    "sport = OSMGeoJsonHandler(r_path, feature_type='sport')"
   ]
  },
  {
   "cell_type": "code",
   "execution_count": 4,
   "id": "be65680b-d240-4b49-b820-f53a369dfef7",
   "metadata": {},
   "outputs": [
    {
     "data": {
      "text/html": [
       "<div>\n",
       "<style scoped>\n",
       "    .dataframe tbody tr th:only-of-type {\n",
       "        vertical-align: middle;\n",
       "    }\n",
       "\n",
       "    .dataframe tbody tr th {\n",
       "        vertical-align: top;\n",
       "    }\n",
       "\n",
       "    .dataframe thead th {\n",
       "        text-align: right;\n",
       "    }\n",
       "</style>\n",
       "<table border=\"1\" class=\"dataframe\">\n",
       "  <thead>\n",
       "    <tr style=\"text-align: right;\">\n",
       "      <th></th>\n",
       "      <th>ID</th>\n",
       "      <th>TYPE</th>\n",
       "      <th>NAME</th>\n",
       "      <th>geometry</th>\n",
       "      <th>AREA</th>\n",
       "      <th>LAT</th>\n",
       "      <th>LON</th>\n",
       "    </tr>\n",
       "  </thead>\n",
       "  <tbody>\n",
       "    <tr>\n",
       "      <th>0</th>\n",
       "      <td>9068600</td>\n",
       "      <td>way</td>\n",
       "      <td>NaN</td>\n",
       "      <td>POLYGON ((4.39660 50.85997, 4.39622 50.85976, ...</td>\n",
       "      <td>0.002278</td>\n",
       "      <td>50.859647</td>\n",
       "      <td>4.396699</td>\n",
       "    </tr>\n",
       "    <tr>\n",
       "      <th>1</th>\n",
       "      <td>9644004</td>\n",
       "      <td>way</td>\n",
       "      <td>NaN</td>\n",
       "      <td>POLYGON ((4.39788 50.88069, 4.39811 50.88009, ...</td>\n",
       "      <td>0.007471</td>\n",
       "      <td>50.880499</td>\n",
       "      <td>4.398735</td>\n",
       "    </tr>\n",
       "    <tr>\n",
       "      <th>2</th>\n",
       "      <td>9644012</td>\n",
       "      <td>way</td>\n",
       "      <td>NaN</td>\n",
       "      <td>POLYGON ((4.40029 50.88142, 4.40046 50.88051, ...</td>\n",
       "      <td>0.007379</td>\n",
       "      <td>50.881003</td>\n",
       "      <td>4.400881</td>\n",
       "    </tr>\n",
       "    <tr>\n",
       "      <th>3</th>\n",
       "      <td>9778518</td>\n",
       "      <td>way</td>\n",
       "      <td>NaN</td>\n",
       "      <td>POLYGON ((4.30254 50.84030, 4.30269 50.84000, ...</td>\n",
       "      <td>0.001208</td>\n",
       "      <td>50.840196</td>\n",
       "      <td>4.302842</td>\n",
       "    </tr>\n",
       "    <tr>\n",
       "      <th>4</th>\n",
       "      <td>9778529</td>\n",
       "      <td>way</td>\n",
       "      <td>NaN</td>\n",
       "      <td>POLYGON ((4.30317 50.84043, 4.30333 50.84013, ...</td>\n",
       "      <td>0.000535</td>\n",
       "      <td>50.840301</td>\n",
       "      <td>4.303347</td>\n",
       "    </tr>\n",
       "  </tbody>\n",
       "</table>\n",
       "</div>"
      ],
      "text/plain": [
       "        ID TYPE NAME                                           geometry  \\\n",
       "0  9068600  way  NaN  POLYGON ((4.39660 50.85997, 4.39622 50.85976, ...   \n",
       "1  9644004  way  NaN  POLYGON ((4.39788 50.88069, 4.39811 50.88009, ...   \n",
       "2  9644012  way  NaN  POLYGON ((4.40029 50.88142, 4.40046 50.88051, ...   \n",
       "3  9778518  way  NaN  POLYGON ((4.30254 50.84030, 4.30269 50.84000, ...   \n",
       "4  9778529  way  NaN  POLYGON ((4.30317 50.84043, 4.30333 50.84013, ...   \n",
       "\n",
       "       AREA        LAT       LON  \n",
       "0  0.002278  50.859647  4.396699  \n",
       "1  0.007471  50.880499  4.398735  \n",
       "2  0.007379  50.881003  4.400881  \n",
       "3  0.001208  50.840196  4.302842  \n",
       "4  0.000535  50.840301  4.303347  "
      ]
     },
     "execution_count": 4,
     "metadata": {},
     "output_type": "execute_result"
    }
   ],
   "source": [
    "sport.gdf.head()"
   ]
  },
  {
   "cell_type": "markdown",
   "id": "87d798c9-141d-4baa-a9ee-ea2a2c3c704f",
   "metadata": {},
   "source": [
    "## Assign neighborhoods"
   ]
  },
  {
   "cell_type": "code",
   "execution_count": 5,
   "id": "d365df45-9b0f-4f96-bc4f-4772c555b9d1",
   "metadata": {},
   "outputs": [],
   "source": [
    "#Load geodata\n",
    "r_path = r\"../data/final_data/sector.json\"\n",
    "path = os.path.join(os.getcwd(), r_path)\n",
    "sectors = GeoJsonHandler(path, \"NAME_FRE\")"
   ]
  },
  {
   "cell_type": "code",
   "execution_count": 6,
   "id": "9ba839a6-1bf4-439d-85bf-42927b7ee0c8",
   "metadata": {},
   "outputs": [
    {
     "name": "stderr",
     "output_type": "stream",
     "text": [
      "  0%|                                                                                                                                                   | 0/808 [00:00<?, ?it/s]C:\\Users\\vic_t\\Anaconda3\\envs\\mfe_env\\lib\\site-packages\\pandas\\core\\indexing.py:1732: SettingWithCopyWarning: \n",
      "A value is trying to be set on a copy of a slice from a DataFrame\n",
      "\n",
      "See the caveats in the documentation: https://pandas.pydata.org/pandas-docs/stable/user_guide/indexing.html#returning-a-view-versus-a-copy\n",
      "  self._setitem_single_block(indexer, value, name)\n",
      "100%|█████████████████████████████████████████████████████████████████████████████████████████████████████████████████████████████████████████| 808/808 [01:01<00:00, 13.24it/s]\n"
     ]
    }
   ],
   "source": [
    "sport.assign_ngh(sectors)"
   ]
  },
  {
   "cell_type": "code",
   "execution_count": 13,
   "id": "9d355226-75f9-4378-a5a4-ace5300a8dbc",
   "metadata": {},
   "outputs": [
    {
     "data": {
      "text/html": [
       "<div>\n",
       "<style scoped>\n",
       "    .dataframe tbody tr th:only-of-type {\n",
       "        vertical-align: middle;\n",
       "    }\n",
       "\n",
       "    .dataframe tbody tr th {\n",
       "        vertical-align: top;\n",
       "    }\n",
       "\n",
       "    .dataframe thead th {\n",
       "        text-align: right;\n",
       "    }\n",
       "</style>\n",
       "<table border=\"1\" class=\"dataframe\">\n",
       "  <thead>\n",
       "    <tr style=\"text-align: right;\">\n",
       "      <th></th>\n",
       "      <th>ID</th>\n",
       "      <th>TYPE</th>\n",
       "      <th>NAME</th>\n",
       "      <th>AMENITY</th>\n",
       "      <th>geometry</th>\n",
       "      <th>AREA</th>\n",
       "      <th>LAT</th>\n",
       "      <th>LON</th>\n",
       "      <th>NAME_FRE</th>\n",
       "    </tr>\n",
       "  </thead>\n",
       "  <tbody>\n",
       "    <tr>\n",
       "      <th>0</th>\n",
       "      <td>9068600</td>\n",
       "      <td>way</td>\n",
       "      <td>NaN</td>\n",
       "      <td>sport</td>\n",
       "      <td>POLYGON ((4.39660 50.85997, 4.39622 50.85976, ...</td>\n",
       "      <td>0.002278</td>\n",
       "      <td>50.859647</td>\n",
       "      <td>4.396699</td>\n",
       "      <td>GARE JOSAPHAT</td>\n",
       "    </tr>\n",
       "    <tr>\n",
       "      <th>1</th>\n",
       "      <td>9644004</td>\n",
       "      <td>way</td>\n",
       "      <td>NaN</td>\n",
       "      <td>sport</td>\n",
       "      <td>POLYGON ((4.39788 50.88069, 4.39811 50.88009, ...</td>\n",
       "      <td>0.007471</td>\n",
       "      <td>50.880499</td>\n",
       "      <td>4.398735</td>\n",
       "      <td>PAIX</td>\n",
       "    </tr>\n",
       "    <tr>\n",
       "      <th>2</th>\n",
       "      <td>9644012</td>\n",
       "      <td>way</td>\n",
       "      <td>NaN</td>\n",
       "      <td>sport</td>\n",
       "      <td>POLYGON ((4.40029 50.88142, 4.40046 50.88051, ...</td>\n",
       "      <td>0.007379</td>\n",
       "      <td>50.881003</td>\n",
       "      <td>4.400881</td>\n",
       "      <td>PAIX</td>\n",
       "    </tr>\n",
       "    <tr>\n",
       "      <th>3</th>\n",
       "      <td>9778518</td>\n",
       "      <td>way</td>\n",
       "      <td>NaN</td>\n",
       "      <td>sport</td>\n",
       "      <td>POLYGON ((4.30254 50.84030, 4.30269 50.84000, ...</td>\n",
       "      <td>0.001208</td>\n",
       "      <td>50.840196</td>\n",
       "      <td>4.302842</td>\n",
       "      <td>BUFFON</td>\n",
       "    </tr>\n",
       "    <tr>\n",
       "      <th>4</th>\n",
       "      <td>9778529</td>\n",
       "      <td>way</td>\n",
       "      <td>NaN</td>\n",
       "      <td>sport</td>\n",
       "      <td>POLYGON ((4.30317 50.84043, 4.30333 50.84013, ...</td>\n",
       "      <td>0.000535</td>\n",
       "      <td>50.840301</td>\n",
       "      <td>4.303347</td>\n",
       "      <td>BUFFON</td>\n",
       "    </tr>\n",
       "  </tbody>\n",
       "</table>\n",
       "</div>"
      ],
      "text/plain": [
       "        ID TYPE NAME AMENITY  \\\n",
       "0  9068600  way  NaN   sport   \n",
       "1  9644004  way  NaN   sport   \n",
       "2  9644012  way  NaN   sport   \n",
       "3  9778518  way  NaN   sport   \n",
       "4  9778529  way  NaN   sport   \n",
       "\n",
       "                                            geometry      AREA        LAT  \\\n",
       "0  POLYGON ((4.39660 50.85997, 4.39622 50.85976, ...  0.002278  50.859647   \n",
       "1  POLYGON ((4.39788 50.88069, 4.39811 50.88009, ...  0.007471  50.880499   \n",
       "2  POLYGON ((4.40029 50.88142, 4.40046 50.88051, ...  0.007379  50.881003   \n",
       "3  POLYGON ((4.30254 50.84030, 4.30269 50.84000, ...  0.001208  50.840196   \n",
       "4  POLYGON ((4.30317 50.84043, 4.30333 50.84013, ...  0.000535  50.840301   \n",
       "\n",
       "        LON       NAME_FRE  \n",
       "0  4.396699  GARE JOSAPHAT  \n",
       "1  4.398735           PAIX  \n",
       "2  4.400881           PAIX  \n",
       "3  4.302842         BUFFON  \n",
       "4  4.303347         BUFFON  "
      ]
     },
     "execution_count": 13,
     "metadata": {},
     "output_type": "execute_result"
    }
   ],
   "source": [
    "sport.gdf['AMENITY'] = 'sport'\n",
    "sport.gdf = sport.gdf[['ID', 'TYPE', 'NAME', 'AMENITY', 'geometry', 'AREA', 'LAT', 'LON', 'NAME_FRE']]\n",
    "sport.gdf.head()"
   ]
  },
  {
   "cell_type": "markdown",
   "id": "91cf3ef9-f193-45b4-9363-a8d525a46c72",
   "metadata": {},
   "source": [
    "### We need to remove outliers as huge areas will strongly impact our results"
   ]
  },
  {
   "cell_type": "code",
   "execution_count": 30,
   "id": "9073c5dc-919d-4410-ac11-6fed1db6c4e0",
   "metadata": {},
   "outputs": [
    {
     "data": {
      "text/plain": [
       "100.0"
      ]
     },
     "execution_count": 30,
     "metadata": {},
     "output_type": "execute_result"
    }
   ],
   "source": [
    "np.sqrt(0.01 * 1e6)"
   ]
  },
  {
   "cell_type": "code",
   "execution_count": 34,
   "id": "00e126ff-b1ff-4cdf-ad26-944ea1858e93",
   "metadata": {},
   "outputs": [],
   "source": [
    "#Let's fix the maximal size of sport amenities to 5000 m^2 \n",
    "sport.gdf.loc[sport.gdf['AREA'] > 0.005, ['AREA']] = 0.005"
   ]
  },
  {
   "cell_type": "code",
   "execution_count": 35,
   "id": "d3f9adfc-6542-49aa-960f-2dac69fd5142",
   "metadata": {},
   "outputs": [
    {
     "data": {
      "text/plain": [
       "<AxesSubplot:xlabel='AREA', ylabel='Count'>"
      ]
     },
     "execution_count": 35,
     "metadata": {},
     "output_type": "execute_result"
    },
    {
     "data": {
      "image/png": "[encoded data removed]",
      "text/plain": [
       "<Figure size 842.4x595.44 with 1 Axes>"
      ]
     },
     "metadata": {},
     "output_type": "display_data"
    }
   ],
   "source": [
    "sns.set(rc={'figure.figsize':(11.7,8.27)})\n",
    "sns.histplot(sport.gdf, x='AREA', bins=500)"
   ]
  },
  {
   "cell_type": "code",
   "execution_count": 36,
   "id": "b3303554-ad32-4fbf-8717-a705c20921c7",
   "metadata": {},
   "outputs": [],
   "source": [
    "r_path = r\"../data/final_data/osm/sport.csv\"\n",
    "path = os.path.join(os.getcwd(), r_path)\n",
    "\n",
    "sport.gdf.to_csv(path, sep=',', encoding='utf-8-sig', index=False, chunksize=10000)"
   ]
  },
  {
   "cell_type": "code",
   "execution_count": null,
   "id": "cde408ce-0a9f-477a-a7b7-e8dcd02bc7ca",
   "metadata": {},
   "outputs": [],
   "source": []
  }
 ],
 "metadata": {
  "kernelspec": {
   "display_name": "Python 3 (ipykernel)",
   "language": "python",
   "name": "python3"
  },
  "language_info": {
   "codemirror_mode": {
    "name": "ipython",
    "version": 3
   },
   "file_extension": ".py",
   "mimetype": "text/x-python",
   "name": "python",
   "nbconvert_exporter": "python",
   "pygments_lexer": "ipython3",
   "version": "3.9.7"
  }
 },
 "nbformat": 4,
 "nbformat_minor": 5
}

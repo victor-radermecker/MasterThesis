{
 "cells": [
  {
   "cell_type": "code",
   "execution_count": 1,
   "id": "d7e09cb1-8ba2-4d31-86be-71398a91898b",
   "metadata": {},
   "outputs": [],
   "source": [
    "import geopandas as gpd\n",
    "\n",
    "import json\n",
    "import os\n",
    "import sys\n",
    "\n",
    "\n",
    "import branca\n",
    "import branca.colormap as cm\n",
    "import numpy as np\n",
    "import pandas as pd\n",
    "\n",
    "sys.path.insert(0, \"../src\")\n",
    "from BrusselsMap import BrusselsMap\n",
    "from GeoJsonHandler import GeoJsonHandler\n",
    "from OSMGeoJsonHandler import OSMGeoJsonHandler\n",
    "\n",
    "pd.set_option(\"display.max_rows\", 500)\n",
    "pd.set_option(\"display.max_columns\", 500)\n",
    "\n",
    "import warnings\n",
    "warnings.filterwarnings('ignore')"
   ]
  },
  {
   "cell_type": "code",
   "execution_count": 2,
   "id": "a1c59abb-0242-4a09-a9e0-ebe8a07bd8ff",
   "metadata": {},
   "outputs": [],
   "source": [
    "%load_ext autoreload\n",
    "%autoreload 2"
   ]
  },
  {
   "cell_type": "markdown",
   "id": "0f101bfa-edb3-4298-ae8f-6b11a3b7aa95",
   "metadata": {},
   "source": [
    "## Segmentation maps\n",
    "In this notebook, we will plot a choropleth map of two neighborhoods to show two different charging habits"
   ]
  },
  {
   "cell_type": "code",
   "execution_count": 3,
   "id": "9e1dd569-08bc-4cfe-a252-52866be47206",
   "metadata": {},
   "outputs": [],
   "source": [
    "health = pd.read_csv('../data/final_data/osm/health.csv')\n",
    "culture = pd.read_csv('../data/final_data/osm/culture.csv')\n",
    "education = pd.read_csv('../data/final_data/osm/school_university.csv')\n",
    "shop = pd.read_csv('../data/final_data/osm/shop.csv')\n",
    "sustenance = pd.read_csv('../data/final_data/osm/sustenance.csv')\n",
    "tourism = pd.read_csv('../data/final_data/osm/tourism.csv')\n",
    "office = pd.read_csv('../data/final_data/osm/office.csv')"
   ]
  },
  {
   "cell_type": "code",
   "execution_count": 4,
   "id": "55bce9a1-8894-4688-a9e1-95acc0135b26",
   "metadata": {},
   "outputs": [],
   "source": [
    "from shapely import wkt\n",
    "\n",
    "dataframes = [health, culture, education, shop, sustenance, tourism, office]\n",
    "for df in dataframes:\n",
    "    df['geometry'] = df['geometry'].apply(wkt.loads)\n",
    "    df = gpd.GeoDataFrame(df, crs='epsg:4326')"
   ]
  },
  {
   "cell_type": "code",
   "execution_count": 5,
   "id": "825ec051-95c5-4543-b5f5-66ba183570f6",
   "metadata": {},
   "outputs": [],
   "source": [
    "#Load geodata\n",
    "r_path = r\"../data/final_data/sector.json\"\n",
    "path = os.path.join(os.getcwd(), r_path)\n",
    "sectors = GeoJsonHandler(path, \"NAME_FRE\")"
   ]
  },
  {
   "cell_type": "code",
   "execution_count": 6,
   "id": "7b9ed167-36e5-441c-87cc-b87e662688c4",
   "metadata": {},
   "outputs": [
    {
     "ename": "OverflowError",
     "evalue": "Maximum recursion level reached",
     "output_type": "error",
     "traceback": [
      "\u001b[1;31m---------------------------------------------------------------------------\u001b[0m",
      "\u001b[1;31mOverflowError\u001b[0m                             Traceback (most recent call last)",
      "\u001b[1;32m~\\AppData\\Local\\Temp/ipykernel_12640/3326535435.py\u001b[0m in \u001b[0;36m<module>\u001b[1;34m\u001b[0m\n\u001b[0;32m      3\u001b[0m \u001b[1;31m#Adding hospitals\u001b[0m\u001b[1;33m\u001b[0m\u001b[1;33m\u001b[0m\u001b[0m\n\u001b[0;32m      4\u001b[0m \u001b[0mdata\u001b[0m \u001b[1;33m=\u001b[0m \u001b[0mhealth\u001b[0m\u001b[1;33m[\u001b[0m\u001b[0mhealth\u001b[0m\u001b[1;33m[\u001b[0m\u001b[1;34m'NAME_FRE'\u001b[0m\u001b[1;33m]\u001b[0m\u001b[1;33m==\u001b[0m \u001b[1;34m'VOGELENZANG - ERASME'\u001b[0m\u001b[1;33m]\u001b[0m\u001b[1;33m\u001b[0m\u001b[1;33m\u001b[0m\u001b[0m\n\u001b[1;32m----> 5\u001b[1;33m \u001b[0mdata_json\u001b[0m \u001b[1;33m=\u001b[0m \u001b[0mdata\u001b[0m\u001b[1;33m[\u001b[0m\u001b[1;33m[\u001b[0m\u001b[1;34m'NAME_FRE'\u001b[0m\u001b[1;33m,\u001b[0m\u001b[1;34m'AMENITY'\u001b[0m\u001b[1;33m,\u001b[0m\u001b[1;34m'geometry'\u001b[0m\u001b[1;33m]\u001b[0m\u001b[1;33m]\u001b[0m\u001b[1;33m.\u001b[0m\u001b[0mto_json\u001b[0m\u001b[1;33m(\u001b[0m\u001b[1;33m)\u001b[0m\u001b[1;33m\u001b[0m\u001b[1;33m\u001b[0m\u001b[0m\n\u001b[0m\u001b[0;32m      6\u001b[0m \u001b[0mmymap\u001b[0m\u001b[1;33m.\u001b[0m\u001b[0mbuild_sectors\u001b[0m\u001b[1;33m(\u001b[0m\u001b[0mdata_json\u001b[0m\u001b[1;33m)\u001b[0m\u001b[1;33m\u001b[0m\u001b[1;33m\u001b[0m\u001b[0m\n\u001b[0;32m      7\u001b[0m \u001b[1;33m\u001b[0m\u001b[0m\n",
      "\u001b[1;32m~\\Anaconda3\\envs\\mfe_env\\lib\\site-packages\\pandas\\core\\generic.py\u001b[0m in \u001b[0;36mto_json\u001b[1;34m(self, path_or_buf, orient, date_format, double_precision, force_ascii, date_unit, default_handler, lines, compression, index, indent, storage_options)\u001b[0m\n\u001b[0;32m   2556\u001b[0m         \u001b[0mindent\u001b[0m \u001b[1;33m=\u001b[0m \u001b[0mindent\u001b[0m \u001b[1;32mor\u001b[0m \u001b[1;36m0\u001b[0m\u001b[1;33m\u001b[0m\u001b[1;33m\u001b[0m\u001b[0m\n\u001b[0;32m   2557\u001b[0m \u001b[1;33m\u001b[0m\u001b[0m\n\u001b[1;32m-> 2558\u001b[1;33m         return json.to_json(\n\u001b[0m\u001b[0;32m   2559\u001b[0m             \u001b[0mpath_or_buf\u001b[0m\u001b[1;33m=\u001b[0m\u001b[0mpath_or_buf\u001b[0m\u001b[1;33m,\u001b[0m\u001b[1;33m\u001b[0m\u001b[1;33m\u001b[0m\u001b[0m\n\u001b[0;32m   2560\u001b[0m             \u001b[0mobj\u001b[0m\u001b[1;33m=\u001b[0m\u001b[0mself\u001b[0m\u001b[1;33m,\u001b[0m\u001b[1;33m\u001b[0m\u001b[1;33m\u001b[0m\u001b[0m\n",
      "\u001b[1;32m~\\Anaconda3\\envs\\mfe_env\\lib\\site-packages\\pandas\\io\\json\\_json.py\u001b[0m in \u001b[0;36mto_json\u001b[1;34m(path_or_buf, obj, orient, date_format, double_precision, force_ascii, date_unit, default_handler, lines, compression, index, indent, storage_options)\u001b[0m\n\u001b[0;32m    111\u001b[0m         \u001b[1;32mraise\u001b[0m \u001b[0mNotImplementedError\u001b[0m\u001b[1;33m(\u001b[0m\u001b[1;34m\"'obj' should be a Series or a DataFrame\"\u001b[0m\u001b[1;33m)\u001b[0m\u001b[1;33m\u001b[0m\u001b[1;33m\u001b[0m\u001b[0m\n\u001b[0;32m    112\u001b[0m \u001b[1;33m\u001b[0m\u001b[0m\n\u001b[1;32m--> 113\u001b[1;33m     s = writer(\n\u001b[0m\u001b[0;32m    114\u001b[0m         \u001b[0mobj\u001b[0m\u001b[1;33m,\u001b[0m\u001b[1;33m\u001b[0m\u001b[1;33m\u001b[0m\u001b[0m\n\u001b[0;32m    115\u001b[0m         \u001b[0morient\u001b[0m\u001b[1;33m=\u001b[0m\u001b[0morient\u001b[0m\u001b[1;33m,\u001b[0m\u001b[1;33m\u001b[0m\u001b[1;33m\u001b[0m\u001b[0m\n",
      "\u001b[1;32m~\\Anaconda3\\envs\\mfe_env\\lib\\site-packages\\pandas\\io\\json\\_json.py\u001b[0m in \u001b[0;36mwrite\u001b[1;34m(self)\u001b[0m\n\u001b[0;32m    173\u001b[0m     \u001b[1;32mdef\u001b[0m \u001b[0mwrite\u001b[0m\u001b[1;33m(\u001b[0m\u001b[0mself\u001b[0m\u001b[1;33m)\u001b[0m\u001b[1;33m:\u001b[0m\u001b[1;33m\u001b[0m\u001b[1;33m\u001b[0m\u001b[0m\n\u001b[0;32m    174\u001b[0m         \u001b[0miso_dates\u001b[0m \u001b[1;33m=\u001b[0m \u001b[0mself\u001b[0m\u001b[1;33m.\u001b[0m\u001b[0mdate_format\u001b[0m \u001b[1;33m==\u001b[0m \u001b[1;34m\"iso\"\u001b[0m\u001b[1;33m\u001b[0m\u001b[1;33m\u001b[0m\u001b[0m\n\u001b[1;32m--> 175\u001b[1;33m         return dumps(\n\u001b[0m\u001b[0;32m    176\u001b[0m             \u001b[0mself\u001b[0m\u001b[1;33m.\u001b[0m\u001b[0mobj_to_write\u001b[0m\u001b[1;33m,\u001b[0m\u001b[1;33m\u001b[0m\u001b[1;33m\u001b[0m\u001b[0m\n\u001b[0;32m    177\u001b[0m             \u001b[0morient\u001b[0m\u001b[1;33m=\u001b[0m\u001b[0mself\u001b[0m\u001b[1;33m.\u001b[0m\u001b[0morient\u001b[0m\u001b[1;33m,\u001b[0m\u001b[1;33m\u001b[0m\u001b[1;33m\u001b[0m\u001b[0m\n",
      "\u001b[1;31mOverflowError\u001b[0m: Maximum recursion level reached"
     ]
    }
   ],
   "source": [
    "mymap = BrusselsMap(sectors, 800, 800, tiles=False, tile=\"stamenwatercolor\")\n",
    "\n",
    "#Adding hospitals\n",
    "data = health[health['NAME_FRE']== 'VOGELENZANG - ERASME']\n",
    "data_json = data[['NAME_FRE','AMENITY','geometry']].to_json()\n",
    "mymap.build_sectors(data_json)\n",
    "\n",
    "#Adding hospitals\n",
    "data = health[health['NAME_FRE']== 'VOGELENZANG - ERASME']\n",
    "data_json = data[['NAME_FRE','AMENITY','geometry']].to_json()\n",
    "mymap.build_sectors(data_json)\n",
    "\n",
    "mymap.map"
   ]
  },
  {
   "cell_type": "code",
   "execution_count": null,
   "id": "4c107bda-2eec-4346-9d98-22b0ecc4fbe3",
   "metadata": {},
   "outputs": [],
   "source": [
    "data = health[health['NAME_FRE']== 'VOGELENZANG - ERASME']\n",
    "\n",
    "for _, r in data.iterrows():\n",
    "    # Without simplifying the representation of each borough,\n",
    "    # the map might not be displayed\n",
    "    # sim_geo = gpd.GeoSeries(r['geometry']).simplify(tolerance=0.001)\n",
    "    geo_j = r['geometry'].to_json()\n",
    "    geo_j = folium.GeoJson(data=geo_j,\n",
    "                           style_function=lambda x: {'fillColor': 'orange'})\n",
    "    folium.Popup(r['NAME_FRE']).add_to(geo_j)\n",
    "    geo_j.add_to(mymap.map)\n",
    "mymap.map"
   ]
  },
  {
   "cell_type": "code",
   "execution_count": null,
   "id": "989d77d0-fceb-453d-9340-8ab6e8dda67b",
   "metadata": {},
   "outputs": [],
   "source": [
    "r['geometry']"
   ]
  }
 ],
 "metadata": {
  "kernelspec": {
   "display_name": "mfe_env",
   "language": "python",
   "name": "mfe_env"
  },
  "language_info": {
   "codemirror_mode": {
    "name": "ipython",
    "version": 3
   },
   "file_extension": ".py",
   "mimetype": "text/x-python",
   "name": "python",
   "nbconvert_exporter": "python",
   "pygments_lexer": "ipython3",
   "version": "3.9.7"
  }
 },
 "nbformat": 4,
 "nbformat_minor": 5
}

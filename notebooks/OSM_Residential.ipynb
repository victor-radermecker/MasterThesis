{
 "cells": [
  {
   "cell_type": "code",
   "execution_count": 1,
   "id": "d98d7c12-9dc4-4a05-ac5d-fcb8dd4177c6",
   "metadata": {},
   "outputs": [],
   "source": [
    "import geopandas as gpd\n",
    "import numpy as np\n",
    "import pandas as pd\n",
    "import json\n",
    "import os\n",
    "\n",
    "import sys \n",
    "sys.path.insert(0, \"../src\")\n",
    "from BrusselsMap import BrusselsMap\n",
    "from GeoJsonHandler import GeoJsonHandler\n",
    "from OSMGeoJsonHandler import OSMGeoJsonHandler\n",
    "\n",
    "pd.set_option(\"display.max_rows\", 1000)\n",
    "pd.set_option(\"display.max_columns\", 500)"
   ]
  },
  {
   "cell_type": "code",
   "execution_count": 2,
   "id": "6df75206-ab8d-433c-90e2-9e26d0dfeb4c",
   "metadata": {},
   "outputs": [],
   "source": [
    "%load_ext autoreload\n",
    "%autoreload 2"
   ]
  },
  {
   "cell_type": "code",
   "execution_count": 3,
   "id": "1b2cbdbc-f05f-4a8b-b747-4134af93c682",
   "metadata": {},
   "outputs": [],
   "source": [
    "r_path = r\"../data/osm/overpass-turbo/residential.geojson\"\n",
    "path = os.path.join(os.getcwd(), r_path)\n",
    "\n",
    "resi = OSMGeoJsonHandler(r_path, feature_type='residential')"
   ]
  },
  {
   "cell_type": "code",
   "execution_count": 4,
   "id": "f2e59d15-3678-4ce1-8270-189600ab6aee",
   "metadata": {},
   "outputs": [
    {
     "data": {
      "text/html": [
       "<div>\n",
       "<style scoped>\n",
       "    .dataframe tbody tr th:only-of-type {\n",
       "        vertical-align: middle;\n",
       "    }\n",
       "\n",
       "    .dataframe tbody tr th {\n",
       "        vertical-align: top;\n",
       "    }\n",
       "\n",
       "    .dataframe thead th {\n",
       "        text-align: right;\n",
       "    }\n",
       "</style>\n",
       "<table border=\"1\" class=\"dataframe\">\n",
       "  <thead>\n",
       "    <tr style=\"text-align: right;\">\n",
       "      <th></th>\n",
       "      <th>ID</th>\n",
       "      <th>TYPE</th>\n",
       "      <th>NAME</th>\n",
       "      <th>LANDUSE</th>\n",
       "      <th>geometry</th>\n",
       "      <th>AREA</th>\n",
       "      <th>LAT</th>\n",
       "      <th>LON</th>\n",
       "    </tr>\n",
       "  </thead>\n",
       "  <tbody>\n",
       "    <tr>\n",
       "      <th>0</th>\n",
       "      <td>2801411</td>\n",
       "      <td>relation</td>\n",
       "      <td>Place du Nouveau Marché aux Grains - Nieuwe Gr...</td>\n",
       "      <td>residential</td>\n",
       "      <td>MULTIPOLYGON (((4.34528 50.85101, 4.34529 50.8...</td>\n",
       "      <td>0.003454</td>\n",
       "      <td>50.850973</td>\n",
       "      <td>4.344716</td>\n",
       "    </tr>\n",
       "    <tr>\n",
       "      <th>1</th>\n",
       "      <td>6620032</td>\n",
       "      <td>relation</td>\n",
       "      <td>NaN</td>\n",
       "      <td>residential</td>\n",
       "      <td>MULTIPOLYGON (((4.45830 50.86556, 4.45831 50.8...</td>\n",
       "      <td>1.484325</td>\n",
       "      <td>50.857661</td>\n",
       "      <td>4.463637</td>\n",
       "    </tr>\n",
       "    <tr>\n",
       "      <th>2</th>\n",
       "      <td>6693029</td>\n",
       "      <td>relation</td>\n",
       "      <td>NaN</td>\n",
       "      <td>residential</td>\n",
       "      <td>POLYGON ((4.46748 50.84582, 4.46729 50.84582, ...</td>\n",
       "      <td>0.091441</td>\n",
       "      <td>50.846653</td>\n",
       "      <td>4.465543</td>\n",
       "    </tr>\n",
       "    <tr>\n",
       "      <th>3</th>\n",
       "      <td>6695862</td>\n",
       "      <td>relation</td>\n",
       "      <td>NaN</td>\n",
       "      <td>residential</td>\n",
       "      <td>POLYGON ((4.37253 50.83935, 4.37249 50.83935, ...</td>\n",
       "      <td>0.000587</td>\n",
       "      <td>50.839184</td>\n",
       "      <td>4.372660</td>\n",
       "    </tr>\n",
       "    <tr>\n",
       "      <th>4</th>\n",
       "      <td>6956266</td>\n",
       "      <td>relation</td>\n",
       "      <td>NaN</td>\n",
       "      <td>residential</td>\n",
       "      <td>POLYGON ((4.35014 50.84148, 4.35017 50.84150, ...</td>\n",
       "      <td>0.005476</td>\n",
       "      <td>50.841604</td>\n",
       "      <td>4.349439</td>\n",
       "    </tr>\n",
       "  </tbody>\n",
       "</table>\n",
       "</div>"
      ],
      "text/plain": [
       "        ID      TYPE                                               NAME  \\\n",
       "0  2801411  relation  Place du Nouveau Marché aux Grains - Nieuwe Gr...   \n",
       "1  6620032  relation                                                NaN   \n",
       "2  6693029  relation                                                NaN   \n",
       "3  6695862  relation                                                NaN   \n",
       "4  6956266  relation                                                NaN   \n",
       "\n",
       "       LANDUSE                                           geometry      AREA  \\\n",
       "0  residential  MULTIPOLYGON (((4.34528 50.85101, 4.34529 50.8...  0.003454   \n",
       "1  residential  MULTIPOLYGON (((4.45830 50.86556, 4.45831 50.8...  1.484325   \n",
       "2  residential  POLYGON ((4.46748 50.84582, 4.46729 50.84582, ...  0.091441   \n",
       "3  residential  POLYGON ((4.37253 50.83935, 4.37249 50.83935, ...  0.000587   \n",
       "4  residential  POLYGON ((4.35014 50.84148, 4.35017 50.84150, ...  0.005476   \n",
       "\n",
       "         LAT       LON  \n",
       "0  50.850973  4.344716  \n",
       "1  50.857661  4.463637  \n",
       "2  50.846653  4.465543  \n",
       "3  50.839184  4.372660  \n",
       "4  50.841604  4.349439  "
      ]
     },
     "execution_count": 4,
     "metadata": {},
     "output_type": "execute_result"
    }
   ],
   "source": [
    "resi.gdf.head()"
   ]
  },
  {
   "cell_type": "code",
   "execution_count": 5,
   "id": "e6246732-548d-419f-8e89-b8c4fa97adc8",
   "metadata": {},
   "outputs": [
    {
     "name": "stdout",
     "output_type": "stream",
     "text": [
      "Total residential area of Brussels-Capital:  102.34854606878123  km^2\n"
     ]
    }
   ],
   "source": [
    "print(\"Total residential area of Brussels-Capital: \", resi.gdf[\"AREA\"].sum(), \" km^2\")"
   ]
  },
  {
   "cell_type": "markdown",
   "id": "054f322e-1892-4a87-96e5-105bca12fadc",
   "metadata": {},
   "source": [
    "##### Data Validation\n",
    "\n",
    "For information, the total Brussels-Capital area is 161,4 km². This means that around 64% of the city is residential areas which makes sense."
   ]
  },
  {
   "cell_type": "markdown",
   "id": "3c468dd3-edbe-454f-ab58-db4fbd22319a",
   "metadata": {},
   "source": [
    "## Assign neighborhoods"
   ]
  },
  {
   "cell_type": "code",
   "execution_count": 6,
   "id": "37f7e161-0f5f-4c24-81a5-fc3a9c60c878",
   "metadata": {},
   "outputs": [],
   "source": [
    "#Load geodata\n",
    "r_path = r\"../data/final_data/sector.json\"\n",
    "path = os.path.join(os.getcwd(), r_path)\n",
    "sectors = GeoJsonHandler(path, \"NAME_FRE\")"
   ]
  },
  {
   "cell_type": "code",
   "execution_count": 7,
   "id": "1712e593-7c22-4c0c-95e2-85e35bb053c9",
   "metadata": {},
   "outputs": [
    {
     "name": "stderr",
     "output_type": "stream",
     "text": [
      "  0%|                                                                                                                                                                                                   | 0/667 [00:00<?, ?it/s]C:\\Users\\vic_t\\anaconda3\\envs\\mfe\\lib\\site-packages\\pandas\\core\\indexing.py:1732: SettingWithCopyWarning: \n",
      "A value is trying to be set on a copy of a slice from a DataFrame\n",
      "\n",
      "See the caveats in the documentation: https://pandas.pydata.org/pandas-docs/stable/user_guide/indexing.html#returning-a-view-versus-a-copy\n",
      "  self._setitem_single_block(indexer, value, name)\n",
      "100%|█████████████████████████████████████████████████████████████████████████████████████████████████████████████████████████████████████████████████████████████████████████████████████████| 667/667 [00:27<00:00, 23.88it/s]\n"
     ]
    }
   ],
   "source": [
    "resi.assign_ngh(sectors)"
   ]
  },
  {
   "cell_type": "code",
   "execution_count": 8,
   "id": "bb43c229-a751-4e9e-a903-b1bc8f7e77e7",
   "metadata": {},
   "outputs": [
    {
     "data": {
      "text/plain": [
       "84.36570825385152"
      ]
     },
     "execution_count": 8,
     "metadata": {},
     "output_type": "execute_result"
    }
   ],
   "source": [
    "resi.gdf[resi.gdf['NAME_FRE'] != ''][\"AREA\"].sum()"
   ]
  },
  {
   "cell_type": "code",
   "execution_count": 9,
   "id": "a4bdb660-0b24-4d82-8b92-df714615c7a0",
   "metadata": {},
   "outputs": [
    {
     "data": {
      "text/plain": [
       "102.34854606878123"
      ]
     },
     "execution_count": 9,
     "metadata": {},
     "output_type": "execute_result"
    }
   ],
   "source": [
    "resi.gdf[\"AREA\"].sum()"
   ]
  },
  {
   "cell_type": "code",
   "execution_count": null,
   "id": "f5bffe95-4e5c-4554-88c2-fe87ee978179",
   "metadata": {},
   "outputs": [],
   "source": []
  }
 ],
 "metadata": {
  "kernelspec": {
   "display_name": "mfe",
   "language": "python",
   "name": "mfe"
  },
  "language_info": {
   "codemirror_mode": {
    "name": "ipython",
    "version": 3
   },
   "file_extension": ".py",
   "mimetype": "text/x-python",
   "name": "python",
   "nbconvert_exporter": "python",
   "pygments_lexer": "ipython3",
   "version": "3.9.7"
  }
 },
 "nbformat": 4,
 "nbformat_minor": 5
}

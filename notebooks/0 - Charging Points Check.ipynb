{
 "cells": [
  {
   "cell_type": "code",
   "execution_count": 57,
   "id": "a4d8bdf7-3994-4827-99f0-2bed32364440",
   "metadata": {},
   "outputs": [],
   "source": [
    "import json\n",
    "import os\n",
    "import sys\n",
    "\n",
    "import branca\n",
    "import branca.colormap as cm\n",
    "import geopandas as gpd\n",
    "import numpy as np\n",
    "import pandas as pd\n",
    "import json \n",
    "\n",
    "sys.path.insert(0, \"../src\")\n",
    "from BrusselsMap import BrusselsMap\n",
    "from GeoJsonHandler import GeoJsonHandler\n",
    "from OSMGeoJsonHandler import OSMGeoJsonHandler\n",
    "\n",
    "pd.set_option(\"display.max_rows\", 500)\n",
    "pd.set_option(\"display.max_columns\", 500)\n",
    "\n",
    "import warnings\n",
    "warnings.filterwarnings('ignore')"
   ]
  },
  {
   "cell_type": "code",
   "execution_count": 58,
   "id": "18937766-090c-4c1a-9a92-da8f6a34bc58",
   "metadata": {},
   "outputs": [],
   "source": [
    "cars = pd.read_csv(\"../data/ChargingPointsCheck/TF_CAR_HH_SECTOR.csv\", encoding = \"utf-8\")\n",
    "pop = pd.read_csv(\"../data/ChargingPointsCheck/population_stats_sectors.csv\", encoding = \"utf-8\")"
   ]
  },
  {
   "cell_type": "code",
   "execution_count": 59,
   "id": "222b6635-7677-4fd0-b80a-01f5cd4d58c3",
   "metadata": {},
   "outputs": [
    {
     "data": {
      "text/html": [
       "<div>\n",
       "<style scoped>\n",
       "    .dataframe tbody tr th:only-of-type {\n",
       "        vertical-align: middle;\n",
       "    }\n",
       "\n",
       "    .dataframe tbody tr th {\n",
       "        vertical-align: top;\n",
       "    }\n",
       "\n",
       "    .dataframe thead th {\n",
       "        text-align: right;\n",
       "    }\n",
       "</style>\n",
       "<table border=\"1\" class=\"dataframe\">\n",
       "  <thead>\n",
       "    <tr style=\"text-align: right;\">\n",
       "      <th></th>\n",
       "      <th>CD_STAT_SECTOR</th>\n",
       "      <th>TX_REFNIS_DESCR_FR</th>\n",
       "      <th>MS_NUM_CAR</th>\n",
       "    </tr>\n",
       "  </thead>\n",
       "  <tbody>\n",
       "    <tr>\n",
       "      <th>0</th>\n",
       "      <td>11053A381</td>\n",
       "      <td>Wuustwezel</td>\n",
       "      <td>287</td>\n",
       "    </tr>\n",
       "    <tr>\n",
       "      <th>1</th>\n",
       "      <td>11053A391</td>\n",
       "      <td>Wuustwezel</td>\n",
       "      <td>27</td>\n",
       "    </tr>\n",
       "    <tr>\n",
       "      <th>2</th>\n",
       "      <td>11053A400</td>\n",
       "      <td>Wuustwezel</td>\n",
       "      <td>531</td>\n",
       "    </tr>\n",
       "    <tr>\n",
       "      <th>3</th>\n",
       "      <td>11053A480</td>\n",
       "      <td>Wuustwezel</td>\n",
       "      <td>64</td>\n",
       "    </tr>\n",
       "    <tr>\n",
       "      <th>4</th>\n",
       "      <td>11053A49-</td>\n",
       "      <td>Wuustwezel</td>\n",
       "      <td>195</td>\n",
       "    </tr>\n",
       "  </tbody>\n",
       "</table>\n",
       "</div>"
      ],
      "text/plain": [
       "  CD_STAT_SECTOR TX_REFNIS_DESCR_FR  MS_NUM_CAR\n",
       "0      11053A381         Wuustwezel         287\n",
       "1      11053A391         Wuustwezel          27\n",
       "2      11053A400         Wuustwezel         531\n",
       "3      11053A480         Wuustwezel          64\n",
       "4      11053A49-         Wuustwezel         195"
      ]
     },
     "execution_count": 59,
     "metadata": {},
     "output_type": "execute_result"
    }
   ],
   "source": [
    "cars = cars[['CD_STAT_SECTOR', 'TX_REFNIS_DESCR_FR', 'MS_NUM_CAR']]\n",
    "cars.head()"
   ]
  },
  {
   "cell_type": "code",
   "execution_count": 60,
   "id": "c4f3e27c-f197-46ef-9b46-b568ad6048fc",
   "metadata": {},
   "outputs": [
    {
     "data": {
      "text/html": [
       "<div>\n",
       "<style scoped>\n",
       "    .dataframe tbody tr th:only-of-type {\n",
       "        vertical-align: middle;\n",
       "    }\n",
       "\n",
       "    .dataframe tbody tr th {\n",
       "        vertical-align: top;\n",
       "    }\n",
       "\n",
       "    .dataframe thead th {\n",
       "        text-align: right;\n",
       "    }\n",
       "</style>\n",
       "<table border=\"1\" class=\"dataframe\">\n",
       "  <thead>\n",
       "    <tr style=\"text-align: right;\">\n",
       "      <th></th>\n",
       "      <th>CD_STAT_SECTOR</th>\n",
       "      <th>TX_REFNIS_DESCR_FR</th>\n",
       "      <th>POPULATION</th>\n",
       "    </tr>\n",
       "  </thead>\n",
       "  <tbody>\n",
       "    <tr>\n",
       "      <th>0</th>\n",
       "      <td>11001A00-</td>\n",
       "      <td>Aartselaar</td>\n",
       "      <td>2490</td>\n",
       "    </tr>\n",
       "    <tr>\n",
       "      <th>1</th>\n",
       "      <td>11001A01-</td>\n",
       "      <td>Aartselaar</td>\n",
       "      <td>2755</td>\n",
       "    </tr>\n",
       "    <tr>\n",
       "      <th>2</th>\n",
       "      <td>11001A020</td>\n",
       "      <td>Aartselaar</td>\n",
       "      <td>732</td>\n",
       "    </tr>\n",
       "    <tr>\n",
       "      <th>3</th>\n",
       "      <td>11001A030</td>\n",
       "      <td>Aartselaar</td>\n",
       "      <td>431</td>\n",
       "    </tr>\n",
       "    <tr>\n",
       "      <th>4</th>\n",
       "      <td>11001A042</td>\n",
       "      <td>Aartselaar</td>\n",
       "      <td>351</td>\n",
       "    </tr>\n",
       "  </tbody>\n",
       "</table>\n",
       "</div>"
      ],
      "text/plain": [
       "  CD_STAT_SECTOR TX_REFNIS_DESCR_FR  POPULATION\n",
       "0      11001A00-         Aartselaar        2490\n",
       "1      11001A01-         Aartselaar        2755\n",
       "2      11001A020         Aartselaar         732\n",
       "3      11001A030         Aartselaar         431\n",
       "4      11001A042         Aartselaar         351"
      ]
     },
     "execution_count": 60,
     "metadata": {},
     "output_type": "execute_result"
    }
   ],
   "source": [
    "pop = pop[['CD_SECTOR', 'TX_DESCR_FR', 'POPULATION']]\n",
    "pop.rename(columns={'CD_SECTOR':'CD_STAT_SECTOR', 'TX_DESCR_FR':'TX_REFNIS_DESCR_FR'}, inplace=True)\n",
    "pop.head()"
   ]
  },
  {
   "cell_type": "code",
   "execution_count": 61,
   "id": "155f4350-8ce2-4485-becc-974301f1d903",
   "metadata": {},
   "outputs": [
    {
     "data": {
      "text/html": [
       "<div>\n",
       "<style scoped>\n",
       "    .dataframe tbody tr th:only-of-type {\n",
       "        vertical-align: middle;\n",
       "    }\n",
       "\n",
       "    .dataframe tbody tr th {\n",
       "        vertical-align: top;\n",
       "    }\n",
       "\n",
       "    .dataframe thead th {\n",
       "        text-align: right;\n",
       "    }\n",
       "</style>\n",
       "<table border=\"1\" class=\"dataframe\">\n",
       "  <thead>\n",
       "    <tr style=\"text-align: right;\">\n",
       "      <th></th>\n",
       "      <th>CD_STAT_SECTOR</th>\n",
       "      <th>TX_REFNIS_DESCR_FR</th>\n",
       "      <th>POPULATION</th>\n",
       "      <th>MS_NUM_CAR</th>\n",
       "    </tr>\n",
       "  </thead>\n",
       "  <tbody>\n",
       "    <tr>\n",
       "      <th>0</th>\n",
       "      <td>11001A00-</td>\n",
       "      <td>Aartselaar</td>\n",
       "      <td>2490</td>\n",
       "      <td>1322.0</td>\n",
       "    </tr>\n",
       "    <tr>\n",
       "      <th>1</th>\n",
       "      <td>11001A01-</td>\n",
       "      <td>Aartselaar</td>\n",
       "      <td>2755</td>\n",
       "      <td>1494.0</td>\n",
       "    </tr>\n",
       "    <tr>\n",
       "      <th>2</th>\n",
       "      <td>11001A020</td>\n",
       "      <td>Aartselaar</td>\n",
       "      <td>732</td>\n",
       "      <td>432.0</td>\n",
       "    </tr>\n",
       "    <tr>\n",
       "      <th>3</th>\n",
       "      <td>11001A030</td>\n",
       "      <td>Aartselaar</td>\n",
       "      <td>431</td>\n",
       "      <td>237.0</td>\n",
       "    </tr>\n",
       "    <tr>\n",
       "      <th>4</th>\n",
       "      <td>11001A042</td>\n",
       "      <td>Aartselaar</td>\n",
       "      <td>351</td>\n",
       "      <td>238.0</td>\n",
       "    </tr>\n",
       "    <tr>\n",
       "      <th>...</th>\n",
       "      <td>...</td>\n",
       "      <td>...</td>\n",
       "      <td>...</td>\n",
       "      <td>...</td>\n",
       "    </tr>\n",
       "    <tr>\n",
       "      <th>20370</th>\n",
       "      <td>93090H000</td>\n",
       "      <td>Viroinval</td>\n",
       "      <td>245</td>\n",
       "      <td>116.0</td>\n",
       "    </tr>\n",
       "    <tr>\n",
       "      <th>20371</th>\n",
       "      <td>93090H012</td>\n",
       "      <td>Viroinval</td>\n",
       "      <td>66</td>\n",
       "      <td>42.0</td>\n",
       "    </tr>\n",
       "    <tr>\n",
       "      <th>20372</th>\n",
       "      <td>93090H063</td>\n",
       "      <td>Viroinval</td>\n",
       "      <td>22</td>\n",
       "      <td>10.0</td>\n",
       "    </tr>\n",
       "    <tr>\n",
       "      <th>20373</th>\n",
       "      <td>93090H091</td>\n",
       "      <td>Viroinval</td>\n",
       "      <td>29</td>\n",
       "      <td>17.0</td>\n",
       "    </tr>\n",
       "    <tr>\n",
       "      <th>20374</th>\n",
       "      <td>93090ZZZZ</td>\n",
       "      <td>Viroinval</td>\n",
       "      <td>0</td>\n",
       "      <td>0.0</td>\n",
       "    </tr>\n",
       "  </tbody>\n",
       "</table>\n",
       "<p>20375 rows × 4 columns</p>\n",
       "</div>"
      ],
      "text/plain": [
       "      CD_STAT_SECTOR TX_REFNIS_DESCR_FR  POPULATION  MS_NUM_CAR\n",
       "0          11001A00-         Aartselaar        2490      1322.0\n",
       "1          11001A01-         Aartselaar        2755      1494.0\n",
       "2          11001A020         Aartselaar         732       432.0\n",
       "3          11001A030         Aartselaar         431       237.0\n",
       "4          11001A042         Aartselaar         351       238.0\n",
       "...              ...                ...         ...         ...\n",
       "20370      93090H000          Viroinval         245       116.0\n",
       "20371      93090H012          Viroinval          66        42.0\n",
       "20372      93090H063          Viroinval          22        10.0\n",
       "20373      93090H091          Viroinval          29        17.0\n",
       "20374      93090ZZZZ          Viroinval           0         0.0\n",
       "\n",
       "[20375 rows x 4 columns]"
      ]
     },
     "execution_count": 61,
     "metadata": {},
     "output_type": "execute_result"
    }
   ],
   "source": [
    "pd.merge(pop, cars, on=['CD_STAT_SECTOR','TX_REFNIS_DESCR_FR'], how='left')"
   ]
  },
  {
   "cell_type": "code",
   "execution_count": 62,
   "id": "331c8a80-ad20-4c09-b139-0cd4ff02b1d6",
   "metadata": {},
   "outputs": [
    {
     "data": {
      "text/html": [
       "<div>\n",
       "<style scoped>\n",
       "    .dataframe tbody tr th:only-of-type {\n",
       "        vertical-align: middle;\n",
       "    }\n",
       "\n",
       "    .dataframe tbody tr th {\n",
       "        vertical-align: top;\n",
       "    }\n",
       "\n",
       "    .dataframe thead th {\n",
       "        text-align: right;\n",
       "    }\n",
       "</style>\n",
       "<table border=\"1\" class=\"dataframe\">\n",
       "  <thead>\n",
       "    <tr style=\"text-align: right;\">\n",
       "      <th></th>\n",
       "      <th>CD_STAT_SECTOR</th>\n",
       "      <th>T_SEC_FR</th>\n",
       "    </tr>\n",
       "  </thead>\n",
       "  <tbody>\n",
       "    <tr>\n",
       "      <th>0</th>\n",
       "      <td>21001A00-</td>\n",
       "      <td>RESISTANCE</td>\n",
       "    </tr>\n",
       "    <tr>\n",
       "      <th>1</th>\n",
       "      <td>21001A011</td>\n",
       "      <td>KLEINMOLEN</td>\n",
       "    </tr>\n",
       "    <tr>\n",
       "      <th>2</th>\n",
       "      <td>21001A02-</td>\n",
       "      <td>WAYEZ</td>\n",
       "    </tr>\n",
       "    <tr>\n",
       "      <th>3</th>\n",
       "      <td>21001A031</td>\n",
       "      <td>RAUTER-SUD</td>\n",
       "    </tr>\n",
       "    <tr>\n",
       "      <th>4</th>\n",
       "      <td>21001A041</td>\n",
       "      <td>VEEWEYDE-SUD</td>\n",
       "    </tr>\n",
       "  </tbody>\n",
       "</table>\n",
       "</div>"
      ],
      "text/plain": [
       "  CD_STAT_SECTOR      T_SEC_FR\n",
       "0      21001A00-    RESISTANCE\n",
       "1      21001A011    KLEINMOLEN\n",
       "2      21001A02-         WAYEZ\n",
       "3      21001A031    RAUTER-SUD\n",
       "4      21001A041  VEEWEYDE-SUD"
      ]
     },
     "execution_count": 62,
     "metadata": {},
     "output_type": "execute_result"
    }
   ],
   "source": [
    "with open('../data/ChargingPointsCheck/RBC_stat_sectors_2021.json') as f:\n",
    "    data = json.load(f)\n",
    "\n",
    "gdf = gpd.GeoDataFrame.from_features(data[\"features\"])\n",
    "gdf.head()\n",
    "\n",
    "sectors = gdf[['Sector', 'T_SEC_FR']]\n",
    "sectors.rename(columns={'Sector':'CD_STAT_SECTOR'}, inplace=True)\n",
    "sectors.head()"
   ]
  },
  {
   "cell_type": "code",
   "execution_count": 63,
   "id": "7cc350c5-4f7c-4017-aa5e-811b0bbca5ff",
   "metadata": {},
   "outputs": [
    {
     "data": {
      "text/plain": [
       "724"
      ]
     },
     "execution_count": 63,
     "metadata": {},
     "output_type": "execute_result"
    }
   ],
   "source": [
    "len(sectors)"
   ]
  },
  {
   "cell_type": "code",
   "execution_count": 72,
   "id": "ede947fd-5492-459a-9283-d459ae67c6fd",
   "metadata": {},
   "outputs": [
    {
     "data": {
      "text/html": [
       "<div>\n",
       "<style scoped>\n",
       "    .dataframe tbody tr th:only-of-type {\n",
       "        vertical-align: middle;\n",
       "    }\n",
       "\n",
       "    .dataframe tbody tr th {\n",
       "        vertical-align: top;\n",
       "    }\n",
       "\n",
       "    .dataframe thead th {\n",
       "        text-align: right;\n",
       "    }\n",
       "</style>\n",
       "<table border=\"1\" class=\"dataframe\">\n",
       "  <thead>\n",
       "    <tr style=\"text-align: right;\">\n",
       "      <th></th>\n",
       "      <th>CD_STAT_SECTOR</th>\n",
       "      <th>T_SEC_FR</th>\n",
       "      <th>TX_REFNIS_DESCR_FR</th>\n",
       "      <th>MS_NUM_CAR</th>\n",
       "    </tr>\n",
       "  </thead>\n",
       "  <tbody>\n",
       "    <tr>\n",
       "      <th>0</th>\n",
       "      <td>21001A00-</td>\n",
       "      <td>RESISTANCE</td>\n",
       "      <td>Anderlecht</td>\n",
       "      <td>559.0</td>\n",
       "    </tr>\n",
       "    <tr>\n",
       "      <th>1</th>\n",
       "      <td>21001A011</td>\n",
       "      <td>KLEINMOLEN</td>\n",
       "      <td>Anderlecht</td>\n",
       "      <td>671.0</td>\n",
       "    </tr>\n",
       "    <tr>\n",
       "      <th>2</th>\n",
       "      <td>21001A02-</td>\n",
       "      <td>WAYEZ</td>\n",
       "      <td>Anderlecht</td>\n",
       "      <td>151.0</td>\n",
       "    </tr>\n",
       "    <tr>\n",
       "      <th>3</th>\n",
       "      <td>21001A031</td>\n",
       "      <td>RAUTER-SUD</td>\n",
       "      <td>Anderlecht</td>\n",
       "      <td>410.0</td>\n",
       "    </tr>\n",
       "    <tr>\n",
       "      <th>4</th>\n",
       "      <td>21001A041</td>\n",
       "      <td>VEEWEYDE-SUD</td>\n",
       "      <td>Anderlecht</td>\n",
       "      <td>707.0</td>\n",
       "    </tr>\n",
       "  </tbody>\n",
       "</table>\n",
       "</div>"
      ],
      "text/plain": [
       "  CD_STAT_SECTOR      T_SEC_FR TX_REFNIS_DESCR_FR  MS_NUM_CAR\n",
       "0      21001A00-    RESISTANCE         Anderlecht       559.0\n",
       "1      21001A011    KLEINMOLEN         Anderlecht       671.0\n",
       "2      21001A02-         WAYEZ         Anderlecht       151.0\n",
       "3      21001A031    RAUTER-SUD         Anderlecht       410.0\n",
       "4      21001A041  VEEWEYDE-SUD         Anderlecht       707.0"
      ]
     },
     "execution_count": 72,
     "metadata": {},
     "output_type": "execute_result"
    }
   ],
   "source": [
    "dff= pd.merge(sectors, cars, on='CD_STAT_SECTOR', how='left')\n",
    "dff.fillna(0, inplace=True)\n",
    "dff['MS_NUM_CAR'].astype(int)\n",
    "dff.head()"
   ]
  },
  {
   "cell_type": "code",
   "execution_count": 74,
   "id": "657f8a5f-c5fa-4bd4-a7c6-541590e3384c",
   "metadata": {},
   "outputs": [
    {
     "data": {
      "text/plain": [
       "324243.0"
      ]
     },
     "execution_count": 74,
     "metadata": {},
     "output_type": "execute_result"
    }
   ],
   "source": [
    "dff['MS_NUM_CAR'].sum()"
   ]
  },
  {
   "cell_type": "code",
   "execution_count": 76,
   "id": "51ab4efc-3ba1-4f80-a0b6-357e93766f67",
   "metadata": {},
   "outputs": [
    {
     "data": {
      "text/plain": [
       "96053"
      ]
     },
     "execution_count": 76,
     "metadata": {},
     "output_type": "execute_result"
    }
   ],
   "source": [
    "# Nombre de garages privés\n",
    "96053"
   ]
  },
  {
   "cell_type": "code",
   "execution_count": 77,
   "id": "7b084fbd-d5ac-4a20-b70c-b86710bd1b0b",
   "metadata": {},
   "outputs": [
    {
     "data": {
      "text/plain": [
       "228190"
      ]
     },
     "execution_count": 77,
     "metadata": {},
     "output_type": "execute_result"
    }
   ],
   "source": [
    "324243-96053"
   ]
  },
  {
   "cell_type": "code",
   "execution_count": null,
   "id": "802e6605-1c1e-4073-bc87-53187dd3220a",
   "metadata": {},
   "outputs": [],
   "source": []
  }
 ],
 "metadata": {
  "kernelspec": {
   "display_name": "mfe_env",
   "language": "python",
   "name": "mfe_env"
  },
  "language_info": {
   "codemirror_mode": {
    "name": "ipython",
    "version": 3
   },
   "file_extension": ".py",
   "mimetype": "text/x-python",
   "name": "python",
   "nbconvert_exporter": "python",
   "pygments_lexer": "ipython3",
   "version": "3.9.7"
  }
 },
 "nbformat": 4,
 "nbformat_minor": 5
}

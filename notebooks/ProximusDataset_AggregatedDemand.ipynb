{
 "cells": [
  {
   "cell_type": "markdown",
   "id": "1f161f99-649b-48a2-8e09-64d93b6f25e6",
   "metadata": {},
   "source": [
    "`Author: Victor Radermecker | Date: 11/10/2021 | Project: Master Thesis`\n",
    "\n",
    "Aggregating the Proximus Dataset for each neighborhood."
   ]
  },
  {
   "cell_type": "markdown",
   "id": "fa4c69d5-8257-4613-b6dd-479045d03e5e",
   "metadata": {},
   "source": [
    "## Imports"
   ]
  },
  {
   "cell_type": "code",
   "execution_count": 23,
   "id": "29daec1c-4971-4695-8896-d5bafde9701d",
   "metadata": {},
   "outputs": [],
   "source": [
    "import os\n",
    "import sys\n",
    "\n",
    "import branca.colormap as cm\n",
    "import folium\n",
    "import geopandas as gpd\n",
    "import ipywidgets as widgets\n",
    "import pandas as pd\n",
    "from tqdm.auto import tqdm\n",
    "\n",
    "sys.path.insert(0, \"../src\")\n",
    "from BrusselsMap import BrusselsMap\n",
    "from GeoJsonHandler import GeoJsonHandler\n",
    "\n",
    "tqdm.pandas()\n",
    "import json\n",
    "\n",
    "pd.set_option(\"display.max_columns\", 100)"
   ]
  },
  {
   "cell_type": "code",
   "execution_count": 24,
   "id": "8df49d31-b438-41e4-907f-98829777d6e9",
   "metadata": {},
   "outputs": [
    {
     "name": "stdout",
     "output_type": "stream",
     "text": [
      "The autoreload extension is already loaded. To reload it, use:\n",
      "  %reload_ext autoreload\n"
     ]
    }
   ],
   "source": [
    "%load_ext autoreload\n",
    "%autoreload 2"
   ]
  },
  {
   "cell_type": "markdown",
   "id": "5c15df34-9a67-4a07-8777-172c6402c27d",
   "metadata": {},
   "source": [
    "## Data aggregation for daily proximus dataset"
   ]
  },
  {
   "cell_type": "markdown",
   "id": "ae826dc7-c5e0-4e84-8a60-4a8710c62602",
   "metadata": {},
   "source": [
    "<div class=\"alert alert-block alert-warning\">\n",
    "Warning!\n",
    "</div>"
   ]
  },
  {
   "cell_type": "markdown",
   "id": "08c8a16f-197b-41ae-997e-774187c4ccdd",
   "metadata": {},
   "source": [
    "`CHAUSSEE DE WAVRE - SAINT-JULIEN ` needs to be replaced by `CHAUSSEE DE WAVRE - SAINT-JULIEN`\n",
    "\n",
    "\n",
    "`SAINTE-ALIX  - JOLI BOIS` needs to be replaced by `SAINTE-ALIX - JOLI BOIS`"
   ]
  },
  {
   "cell_type": "code",
   "execution_count": 30,
   "id": "b5adb96f-ae74-42f9-988a-18cca2513a8e",
   "metadata": {},
   "outputs": [],
   "source": [
    "# Create a GeoJson Handler\n",
    "r_path = r\"../data/maps/prox_neighbor/json/RBC_Neighborhoods_gps.json\"\n",
    "path = os.path.join(os.getcwd(), r_path)\n",
    "sectors = GeoJsonHandler(path, \"NAME_FRE\")"
   ]
  },
  {
   "cell_type": "code",
   "execution_count": 31,
   "id": "3fbb1388-bb16-4ed2-8098-61877a8b5cea",
   "metadata": {},
   "outputs": [],
   "source": [
    "prox = pd.read_csv(\n",
    "    \"../data/proximus/proximusFrequentTrip_RandomlyGenerated.csv\",\n",
    "    encoding=\"unicode_escape\",\n",
    ").drop(columns='Unnamed: 0')"
   ]
  },
  {
   "cell_type": "code",
   "execution_count": 32,
   "id": "176b1839-2f42-4aaa-aece-95790d60017b",
   "metadata": {},
   "outputs": [
    {
     "data": {
      "text/html": [
       "<div>\n",
       "<style scoped>\n",
       "    .dataframe tbody tr th:only-of-type {\n",
       "        vertical-align: middle;\n",
       "    }\n",
       "\n",
       "    .dataframe tbody tr th {\n",
       "        vertical-align: top;\n",
       "    }\n",
       "\n",
       "    .dataframe thead th {\n",
       "        text-align: right;\n",
       "    }\n",
       "</style>\n",
       "<table border=\"1\" class=\"dataframe\">\n",
       "  <thead>\n",
       "    <tr style=\"text-align: right;\">\n",
       "      <th></th>\n",
       "      <th>NAME_FRE</th>\n",
       "      <th>REGULAR</th>\n",
       "      <th>IRREGULAR</th>\n",
       "    </tr>\n",
       "  </thead>\n",
       "  <tbody>\n",
       "    <tr>\n",
       "      <th>0</th>\n",
       "      <td>ALTITUDE 100</td>\n",
       "      <td>741855</td>\n",
       "      <td>674969</td>\n",
       "    </tr>\n",
       "    <tr>\n",
       "      <th>1</th>\n",
       "      <td>ANDERLECHT CENTRE - WAYEZ</td>\n",
       "      <td>696621</td>\n",
       "      <td>642094</td>\n",
       "    </tr>\n",
       "    <tr>\n",
       "      <th>2</th>\n",
       "      <td>ANNEESSENS</td>\n",
       "      <td>696328</td>\n",
       "      <td>663316</td>\n",
       "    </tr>\n",
       "    <tr>\n",
       "      <th>3</th>\n",
       "      <td>AUDERGHEM CENTRE</td>\n",
       "      <td>718066</td>\n",
       "      <td>719010</td>\n",
       "    </tr>\n",
       "    <tr>\n",
       "      <th>4</th>\n",
       "      <td>AVENUE LEOPOLD III</td>\n",
       "      <td>696597</td>\n",
       "      <td>638930</td>\n",
       "    </tr>\n",
       "  </tbody>\n",
       "</table>\n",
       "</div>"
      ],
      "text/plain": [
       "                    NAME_FRE  REGULAR  IRREGULAR\n",
       "0               ALTITUDE 100   741855     674969\n",
       "1  ANDERLECHT CENTRE - WAYEZ   696621     642094\n",
       "2                 ANNEESSENS   696328     663316\n",
       "3           AUDERGHEM CENTRE   718066     719010\n",
       "4         AVENUE LEOPOLD III   696597     638930"
      ]
     },
     "execution_count": 32,
     "metadata": {},
     "output_type": "execute_result"
    }
   ],
   "source": [
    "#Aggregate data\n",
    "prox = prox.groupby(by=['destinationNB'])[['regularTripSample','irregularTripSample']].sum().reset_index()\n",
    "prox.rename(columns={'destinationNB':'NAME_FRE','regularTripSample':'REGULAR','irregularTripSample':'IRREGULAR'}, inplace=True)\n",
    "\n",
    "prox.head()"
   ]
  },
  {
   "cell_type": "code",
   "execution_count": 33,
   "id": "3b23ecc2-d337-4848-9cbd-40e196ab68ad",
   "metadata": {},
   "outputs": [],
   "source": [
    "prox.to_csv('../data/proximus/proximus_aggregated.csv', index=False)"
   ]
  },
  {
   "cell_type": "markdown",
   "id": "7310e49c-5424-4535-bd12-64dd3b520b4a",
   "metadata": {},
   "source": [
    "## Data aggregation for hourly proximus dataset"
   ]
  },
  {
   "cell_type": "code",
   "execution_count": null,
   "id": "5d4569e4-9177-418c-9e05-87c00849855d",
   "metadata": {},
   "outputs": [],
   "source": []
  }
 ],
 "metadata": {
  "kernelspec": {
   "display_name": "mfe",
   "language": "python",
   "name": "mfe"
  },
  "language_info": {
   "codemirror_mode": {
    "name": "ipython",
    "version": 3
   },
   "file_extension": ".py",
   "mimetype": "text/x-python",
   "name": "python",
   "nbconvert_exporter": "python",
   "pygments_lexer": "ipython3",
   "version": "3.9.7"
  }
 },
 "nbformat": 4,
 "nbformat_minor": 5
}
